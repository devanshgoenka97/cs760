{
 "cells": [
  {
   "cell_type": "code",
   "execution_count": 55,
   "source": [
    "import pandas as pd\n",
    "from DecisionTreeClassifier import DecisionTree\n",
    "df = pd.read_csv(\"data/D2.txt\", sep=\" \", header=None)\n",
    "df.columns = ['x1', 'x2', 'Outcome']\n",
    "cols = df.columns   \n",
    "df[cols] = df[cols].apply(pd.to_numeric, errors='coerce')"
   ],
   "outputs": [],
   "metadata": {}
  },
  {
   "cell_type": "code",
   "execution_count": 56,
   "source": [
    "cols = df.columns.drop(\"Outcome\")\n",
    "cols"
   ],
   "outputs": [
    {
     "output_type": "execute_result",
     "data": {
      "text/plain": [
       "Index(['x1', 'x2'], dtype='object')"
      ]
     },
     "metadata": {},
     "execution_count": 56
    }
   ],
   "metadata": {}
  },
  {
   "cell_type": "code",
   "execution_count": 57,
   "source": [
    "model = DecisionTree(df, ['x1', 'x2'])\n",
    "model()"
   ],
   "outputs": [
    {
     "output_type": "stream",
     "name": "stdout",
     "text": [
      "x1 Attribute, Threshold : 0.454801 IG: 0.10870229757359645\n",
      "x2 Attribute, Threshold : 0.49371 IG: 0.09056355282237771\n",
      "x1 Attribute, Threshold : 0.645326 IG: 0.012999640076866381\n",
      "x2 Attribute, Threshold : 0.224236 IG: 0.0875107332975339\n",
      "x1 Attribute, Threshold : 0.708127 IG: 0.0296998778636359\n",
      "x2 Attribute, Threshold : 0.506048 IG: 0.037745204614714756\n",
      "x1 Attribute, Threshold : 0.533076 IG: 0.1583224564708912\n",
      "x2 Attribute, Threshold : 0.505084 IG: 0.00590013323550298\n",
      "x1 Attribute, Threshold : 0.708127 IG: 0.0840598718848928\n",
      "x2 Attribute, Threshold : 0.424906 IG: 0.030776176065937022\n",
      "x1 Attribute, Threshold : 0.700198 IG: 0.027902339171214152\n",
      "x2 Attribute, Threshold : 0.32625 IG: 0.23521545204051492\n",
      "x1 Attribute, Threshold : 0.622049 IG: 0.10181544102038498\n",
      "x2 Attribute, Threshold : 0.4251 IG: 0.12108607825986156\n",
      "x1 Attribute, Threshold : 0.646007 IG: 0.22068886853450542\n",
      "x2 Attribute, Threshold : 0.421367 IG: 0.03496450078850233\n",
      "x1 Attribute, Threshold : 0.595471 IG: 0.1812845363407426\n",
      "x2 Attribute, Threshold : 0.403494 IG: 0.22465014856779336\n",
      "x1 0.595471\n",
      "Yeah, remainder is zero\n",
      "x1 0.595471\n",
      "Yeah, remainder is zero\n",
      "x1 Attribute, Threshold : 0.595471 IG: 0.7333421436179776\n",
      "x2 Attribute, Threshold : 0.405307 IG: 0.30197639821500166\n",
      "x1 Attribute, Threshold : 0.850316 IG: 0.3457954684530756\n",
      "x2 Attribute, Threshold : 0.037708 IG: 0.04918308457260612\n",
      "x1 Attribute, Threshold : 0.983768 IG: 0.025388937954269497\n",
      "x2 Attribute, Threshold : 0.101635 IG: 0.15021149544404871\n",
      "x1 Attribute, Threshold : 0.941838 IG: 0.2724129999896828\n",
      "x2 Attribute, Threshold : 0.037708 IG: 0.16772661749398804\n",
      "x1 Attribute, Threshold : 0.989099 IG: 0.18352404892469176\n",
      "x2 0.037708\n",
      "Yeah, remainder is zero\n",
      "x2 0.037708\n",
      "Yeah, remainder is zero\n",
      "x2 Attribute, Threshold : 0.037708 IG: 0.6042759238886339\n",
      "x1 Attribute, Threshold : 0.104043 IG: 0.02953743239145812\n",
      "x2 Attribute, Threshold : 0.691474 IG: 0.2732344702983795\n",
      "x1 Attribute, Threshold : 0.104043 IG: 0.11205524520917615\n",
      "x2 Attribute, Threshold : 0.922052 IG: 0.05313042205729335\n",
      "x1 Attribute, Threshold : 0.254049 IG: 0.06929727769996619\n",
      "x2 Attribute, Threshold : 0.886587 IG: 0.05947559060748253\n",
      "x1 Attribute, Threshold : 0.253723 IG: 0.016853721575337932\n",
      "x2 Attribute, Threshold : 0.886587 IG: 0.18760579514258424\n",
      "x1 Attribute, Threshold : 0.191915 IG: 0.0845232574663417\n",
      "x2 Attribute, Threshold : 0.792752 IG: 0.24451193345805167\n",
      "x1 Attribute, Threshold : 0.191915 IG: 0.35786692300593426\n",
      "x2 Attribute, Threshold : 0.884872 IG: 0.047346237224344834\n",
      "x1 Attribute, Threshold : 0.144781 IG: 0.11713535293010102\n",
      "x2 Attribute, Threshold : 0.864128 IG: 0.17994847393899066\n",
      "x1 0.144781\n",
      "Yeah, remainder is zero\n",
      "x1 0.144781\n",
      "Yeah, remainder is zero\n",
      "x1 Attribute, Threshold : 0.144781 IG: 0.8899750004807708\n",
      "x2 0.884872\n",
      "Yeah, remainder is zero\n",
      "x2 0.884872\n",
      "Yeah, remainder is zero\n",
      "x2 Attribute, Threshold : 0.884872 IG: 0.8899750004807708\n",
      "x1 Attribute, Threshold : 0.066174 IG: 0.12853562915291045\n",
      "x2 0.964767\n",
      "Yeah, remainder is zero\n",
      "x2 0.964767\n",
      "Yeah, remainder is zero\n",
      "x2 Attribute, Threshold : 0.964767 IG: 0.37500992844847636\n",
      "x1 Attribute, Threshold : 0.393227 IG: 0.0425637229741922\n",
      "x2 Attribute, Threshold : 0.574122 IG: 0.0444961485924624\n",
      "x1 Attribute, Threshold : 0.393227 IG: 0.2539116320253603\n",
      "x2 Attribute, Threshold : 0.574619 IG: 0.04589029818705709\n",
      "x1 Attribute, Threshold : 0.409972 IG: 0.3632474941632815\n",
      "x2 Attribute, Threshold : 0.597713 IG: 0.23848446893118436\n",
      "x1 0.39583\n",
      "Yeah, remainder is zero\n",
      "x1 0.39583\n",
      "Yeah, remainder is zero\n",
      "x1 Attribute, Threshold : 0.39583 IG: 0.7189429090049598\n",
      "x2 0.639018\n",
      "Yeah, remainder is zero\n",
      "x2 0.639018\n",
      "Yeah, remainder is zero\n",
      "x2 Attribute, Threshold : 0.639018 IG: 0.7189429090049598\n",
      "\n",
      " ****************************** \n",
      "\n",
      "Level  0 \n",
      "\n",
      "{'Headline': 'x1 >= 0.454801;  Gain = 0.10870229757359645',\n",
      " 'Level': 0,\n",
      " 'Predecessor': 1000,\n",
      " 'Split': [554, 446]}\n",
      "\n",
      " ****************************** \n",
      "\n",
      "Level  1 \n",
      "\n",
      "{'Headline': 'x2 >= 0.224236;  Gain = 0.0875107332975339',\n",
      " 'Level': 1,\n",
      " 'Predecessor': 554,\n",
      " 'Split': [425, 129]}\n",
      "{'Headline': 'x2 >= 0.691474;  Gain = 0.2732344702983795',\n",
      " 'Level': 1,\n",
      " 'Predecessor': 446,\n",
      " 'Split': [130, 316]}\n",
      "\n",
      " ****************************** \n",
      "\n",
      "Level  2 \n",
      "\n",
      "{'Headline': 'x2 >= 0.506048;  Gain = 0.037745204614714756',\n",
      " 'Level': 2,\n",
      " 'Predecessor': 425,\n",
      " 'Split': [268, 157]}\n",
      "{'Headline': 'x1 >= 0.850316;  Gain = 0.3457954684530756',\n",
      " 'Level': 2,\n",
      " 'Predecessor': 129,\n",
      " 'Split': [40, 89]}\n",
      "{'Headline': 'x1 >= 0.104043;  Gain = 0.11205524520917615',\n",
      " 'Level': 2,\n",
      " 'Predecessor': 130,\n",
      " 'Split': [97, 33]}\n",
      "{'Headline': 'x2 >= 0.574122;  Gain = 0.0444961485924624',\n",
      " 'Level': 2,\n",
      " 'Predecessor': 316,\n",
      " 'Split': [44, 272]}\n",
      "\n",
      " ****************************** \n",
      "\n",
      "Level  3 \n",
      "\n",
      "{'Instances': 268, 'Label': 1, 'Level': 3}\n",
      "{'Headline': 'x1 >= 0.533076;  Gain = 0.1583224564708912',\n",
      " 'Level': 3,\n",
      " 'Predecessor': 157,\n",
      " 'Split': [131, 26]}\n",
      "{'Headline': 'x2 >= 0.101635;  Gain = 0.15021149544404871',\n",
      " 'Level': 3,\n",
      " 'Predecessor': 40,\n",
      " 'Split': [20, 20]}\n",
      "{'Instances': 89, 'Label': 0, 'Level': 3}\n",
      "{'Headline': 'x1 >= 0.254049;  Gain = 0.06929727769996619',\n",
      " 'Level': 3,\n",
      " 'Predecessor': 97,\n",
      " 'Split': [50, 47]}\n",
      "{'Headline': 'x2 >= 0.964767;  Gain = 0.37500992844847636',\n",
      " 'Level': 3,\n",
      " 'Predecessor': 33,\n",
      " 'Split': [4, 29]}\n",
      "{'Headline': 'x1 >= 0.393227;  Gain = 0.2539116320253603',\n",
      " 'Level': 3,\n",
      " 'Predecessor': 44,\n",
      " 'Split': [7, 37]}\n",
      "{'Instances': 272, 'Label': 0, 'Level': 3}\n",
      "\n",
      " ****************************** \n",
      "\n",
      "Level  4 \n",
      "\n",
      "{'Headline': 'x1 >= 0.708127;  Gain = 0.0840598718848928',\n",
      " 'Level': 4,\n",
      " 'Predecessor': 131,\n",
      " 'Split': [80, 51]}\n",
      "{'Instances': 26, 'Label': 0, 'Level': 4}\n",
      "{'Instances': 20, 'Label': 1, 'Level': 4}\n",
      "{'Headline': 'x1 >= 0.941838;  Gain = 0.2724129999896828',\n",
      " 'Level': 4,\n",
      " 'Predecessor': 20,\n",
      " 'Split': [10, 10]}\n",
      "{'Instances': 50, 'Label': 1, 'Level': 4}\n",
      "{'Headline': 'x2 >= 0.886587;  Gain = 0.18760579514258424',\n",
      " 'Level': 4,\n",
      " 'Predecessor': 47,\n",
      " 'Split': [23, 24]}\n",
      "{'Instances': 4, 'Label': 1, 'Level': 4}\n",
      "{'Instances': 29, 'Label': 0, 'Level': 4}\n",
      "{'Headline': 'x1 >= 0.409972;  Gain = 0.3632474941632815',\n",
      " 'Level': 4,\n",
      " 'Predecessor': 7,\n",
      " 'Split': [4, 3]}\n",
      "{'Instances': 37, 'Label': 0, 'Level': 4}\n",
      "\n",
      " ****************************** \n",
      "\n",
      "Level  5 \n",
      "\n",
      "{'Instances': 80, 'Label': 1, 'Level': 5}\n",
      "{'Headline': 'x2 >= 0.32625;  Gain = 0.23521545204051492',\n",
      " 'Level': 5,\n",
      " 'Predecessor': 51,\n",
      " 'Split': [35, 16]}\n",
      "{'Headline': 'x2 >= 0.037708;  Gain = 0.6042759238886339',\n",
      " 'Level': 5,\n",
      " 'Predecessor': 10,\n",
      " 'Split': [8, 2]}\n",
      "{'Instances': 10, 'Label': 0, 'Level': 5}\n",
      "{'Instances': 23, 'Label': 1, 'Level': 5}\n",
      "{'Headline': 'x2 >= 0.792752;  Gain = 0.24451193345805167',\n",
      " 'Level': 5,\n",
      " 'Predecessor': 24,\n",
      " 'Split': [12, 12]}\n",
      "{'Instances': 4, 'Label': 1, 'Level': 5}\n",
      "{'Headline': 'x1 >= 0.39583;  Gain = 0.7189429090049598',\n",
      " 'Level': 5,\n",
      " 'Predecessor': 3,\n",
      " 'Split': [2, 1]}\n",
      "\n",
      " ****************************** \n",
      "\n",
      "Level  6 \n",
      "\n",
      "{'Headline': 'x2 >= 0.4251;  Gain = 0.12108607825986156',\n",
      " 'Level': 6,\n",
      " 'Predecessor': 35,\n",
      " 'Split': [17, 18]}\n",
      "{'Instances': 16, 'Label': 0, 'Level': 6}\n",
      "{'Instances': 8, 'Label': 1, 'Level': 6}\n",
      "{'Instances': 2, 'Label': 0, 'Level': 6}\n",
      "{'Headline': 'x1 >= 0.191915;  Gain = 0.35786692300593426',\n",
      " 'Level': 6,\n",
      " 'Predecessor': 12,\n",
      " 'Split': [6, 6]}\n",
      "{'Instances': 12, 'Label': 0, 'Level': 6}\n",
      "{'Instances': 2, 'Label': 0, 'Level': 6}\n",
      "{'Instances': 1, 'Label': 1, 'Level': 6}\n",
      "\n",
      " ****************************** \n",
      "\n",
      "Level  7 \n",
      "\n",
      "{'Instances': 17, 'Label': 1, 'Level': 7}\n",
      "{'Headline': 'x1 >= 0.646007;  Gain = 0.22068886853450542',\n",
      " 'Level': 7,\n",
      " 'Predecessor': 18,\n",
      " 'Split': [7, 11]}\n",
      "{'Instances': 6, 'Label': 1, 'Level': 7}\n",
      "{'Headline': 'x2 >= 0.864128;  Gain = 0.17994847393899066',\n",
      " 'Level': 7,\n",
      " 'Predecessor': 6,\n",
      " 'Split': [2, 4]}\n",
      "\n",
      " ****************************** \n",
      "\n",
      "Level  8 \n",
      "\n",
      "{'Instances': 7, 'Label': 1, 'Level': 8}\n",
      "{'Headline': 'x2 >= 0.403494;  Gain = 0.22465014856779336',\n",
      " 'Level': 8,\n",
      " 'Predecessor': 11,\n",
      " 'Split': [5, 6]}\n",
      "{'Headline': 'x1 >= 0.144781;  Gain = 0.8899750004807708',\n",
      " 'Level': 8,\n",
      " 'Predecessor': 2,\n",
      " 'Split': [1, 1]}\n",
      "{'Instances': 4, 'Label': 0, 'Level': 8}\n",
      "\n",
      " ****************************** \n",
      "\n",
      "Level  9 \n",
      "\n",
      "{'Headline': 'x1 >= 0.595471;  Gain = 0.7333421436179776',\n",
      " 'Level': 9,\n",
      " 'Predecessor': 5,\n",
      " 'Split': [3, 2]}\n",
      "{'Instances': 6, 'Label': 0, 'Level': 9}\n",
      "{'Instances': 1, 'Label': 1, 'Level': 9}\n",
      "{'Instances': 1, 'Label': 0, 'Level': 9}\n",
      "\n",
      " ****************************** \n",
      "\n",
      "Level  10 \n",
      "\n",
      "{'Instances': 3, 'Label': 1, 'Level': 10}\n",
      "{'Instances': 2, 'Label': 0, 'Level': 10}\n",
      "Total Nodes:  27\n"
     ]
    }
   ],
   "metadata": {}
  },
  {
   "cell_type": "code",
   "execution_count": 21,
   "source": [
    "import matplotlib.pyplot as plt\n",
    "plt.style.use('seaborn-whitegrid')\n",
    "import numpy as np\n"
   ],
   "outputs": [],
   "metadata": {}
  },
  {
   "cell_type": "code",
   "execution_count": 51,
   "source": [
    "import pandas as pd\n",
    "from DecisionTreeClassifier import DecisionTree\n",
    "df = pd.read_csv(\"data/Dbig.txt\", sep=\" \", header=None)\n",
    "df.columns = ['x1', 'x2', 'Outcome']\n",
    "cols = df.columns   \n",
    "df[cols] = df[cols].apply(pd.to_numeric, errors='coerce')"
   ],
   "outputs": [],
   "metadata": {}
  },
  {
   "cell_type": "code",
   "execution_count": 48,
   "source": [
    "df"
   ],
   "outputs": [
    {
     "output_type": "execute_result",
     "data": {
      "text/html": [
       "<div>\n",
       "<style scoped>\n",
       "    .dataframe tbody tr th:only-of-type {\n",
       "        vertical-align: middle;\n",
       "    }\n",
       "\n",
       "    .dataframe tbody tr th {\n",
       "        vertical-align: top;\n",
       "    }\n",
       "\n",
       "    .dataframe thead th {\n",
       "        text-align: right;\n",
       "    }\n",
       "</style>\n",
       "<table border=\"1\" class=\"dataframe\">\n",
       "  <thead>\n",
       "    <tr style=\"text-align: right;\">\n",
       "      <th></th>\n",
       "      <th>x1</th>\n",
       "      <th>x2</th>\n",
       "      <th>Outcome</th>\n",
       "    </tr>\n",
       "  </thead>\n",
       "  <tbody>\n",
       "    <tr>\n",
       "      <th>0</th>\n",
       "      <td>-1.499372</td>\n",
       "      <td>0.976384</td>\n",
       "      <td>1</td>\n",
       "    </tr>\n",
       "    <tr>\n",
       "      <th>1</th>\n",
       "      <td>-1.499224</td>\n",
       "      <td>-0.517983</td>\n",
       "      <td>1</td>\n",
       "    </tr>\n",
       "    <tr>\n",
       "      <th>2</th>\n",
       "      <td>-1.498880</td>\n",
       "      <td>-1.271624</td>\n",
       "      <td>1</td>\n",
       "    </tr>\n",
       "    <tr>\n",
       "      <th>3</th>\n",
       "      <td>-1.498383</td>\n",
       "      <td>1.456647</td>\n",
       "      <td>1</td>\n",
       "    </tr>\n",
       "    <tr>\n",
       "      <th>4</th>\n",
       "      <td>-1.498293</td>\n",
       "      <td>-1.290862</td>\n",
       "      <td>1</td>\n",
       "    </tr>\n",
       "    <tr>\n",
       "      <th>...</th>\n",
       "      <td>...</td>\n",
       "      <td>...</td>\n",
       "      <td>...</td>\n",
       "    </tr>\n",
       "    <tr>\n",
       "      <th>9995</th>\n",
       "      <td>1.498964</td>\n",
       "      <td>0.036682</td>\n",
       "      <td>1</td>\n",
       "    </tr>\n",
       "    <tr>\n",
       "      <th>9996</th>\n",
       "      <td>1.499012</td>\n",
       "      <td>1.444314</td>\n",
       "      <td>1</td>\n",
       "    </tr>\n",
       "    <tr>\n",
       "      <th>9997</th>\n",
       "      <td>1.499284</td>\n",
       "      <td>0.447541</td>\n",
       "      <td>1</td>\n",
       "    </tr>\n",
       "    <tr>\n",
       "      <th>9998</th>\n",
       "      <td>1.499313</td>\n",
       "      <td>1.092598</td>\n",
       "      <td>1</td>\n",
       "    </tr>\n",
       "    <tr>\n",
       "      <th>9999</th>\n",
       "      <td>1.499767</td>\n",
       "      <td>0.661564</td>\n",
       "      <td>1</td>\n",
       "    </tr>\n",
       "  </tbody>\n",
       "</table>\n",
       "<p>10000 rows × 3 columns</p>\n",
       "</div>"
      ],
      "text/plain": [
       "            x1        x2  Outcome\n",
       "0    -1.499372  0.976384        1\n",
       "1    -1.499224 -0.517983        1\n",
       "2    -1.498880 -1.271624        1\n",
       "3    -1.498383  1.456647        1\n",
       "4    -1.498293 -1.290862        1\n",
       "...        ...       ...      ...\n",
       "9995  1.498964  0.036682        1\n",
       "9996  1.499012  1.444314        1\n",
       "9997  1.499284  0.447541        1\n",
       "9998  1.499313  1.092598        1\n",
       "9999  1.499767  0.661564        1\n",
       "\n",
       "[10000 rows x 3 columns]"
      ]
     },
     "metadata": {},
     "execution_count": 48
    }
   ],
   "metadata": {}
  },
  {
   "cell_type": "code",
   "execution_count": 49,
   "source": [
    "x_black = np.array(df[df['Outcome']==1]['x1'])\n",
    "y_black = np.array(df[df['Outcome']==1]['x2'])\n",
    "x_red = np.array(df[df['Outcome']==0]['x1'])\n",
    "y_red = np.array(df[df['Outcome']==0]['x2'])\n",
    "\n",
    "plt.xlabel('x1')\n",
    "plt.ylabel('x2')\n",
    "\n",
    "plt.plot(x_black, y_black, 'o', color='black')\n",
    "plt.plot(x_red, y_red, 'o', color='purple')\n"
   ],
   "outputs": [
    {
     "output_type": "execute_result",
     "data": {
      "text/plain": [
       "[<matplotlib.lines.Line2D at 0x107cbae20>]"
      ]
     },
     "metadata": {},
     "execution_count": 49
    },
    {
     "output_type": "display_data",
     "data": {
      "image/png": "[encoded data removed]",
      "text/plain": [
       "<Figure size 432x288 with 1 Axes>"
      ]
     },
     "metadata": {}
    }
   ],
   "metadata": {}
  },
  {
   "cell_type": "code",
   "execution_count": 52,
   "source": [
    "dbig_train = df.sample(n=8192)\n",
    "df_test = df.loc[~df.index.isin(dbig_train.index)]\n",
    "d32 = dbig_train[:32]\n",
    "d128 = dbig_train[:128]\n",
    "d512 = dbig_train[:512]\n",
    "d2048 = dbig_train[:2048]\n",
    "d8192 = dbig_train[:8192]"
   ],
   "outputs": [],
   "metadata": {}
  },
  {
   "cell_type": "code",
   "execution_count": 53,
   "source": [
    "dbig_train"
   ],
   "outputs": [
    {
     "output_type": "execute_result",
     "data": {
      "text/html": [
       "<div>\n",
       "<style scoped>\n",
       "    .dataframe tbody tr th:only-of-type {\n",
       "        vertical-align: middle;\n",
       "    }\n",
       "\n",
       "    .dataframe tbody tr th {\n",
       "        vertical-align: top;\n",
       "    }\n",
       "\n",
       "    .dataframe thead th {\n",
       "        text-align: right;\n",
       "    }\n",
       "</style>\n",
       "<table border=\"1\" class=\"dataframe\">\n",
       "  <thead>\n",
       "    <tr style=\"text-align: right;\">\n",
       "      <th></th>\n",
       "      <th>x1</th>\n",
       "      <th>x2</th>\n",
       "      <th>Outcome</th>\n",
       "    </tr>\n",
       "  </thead>\n",
       "  <tbody>\n",
       "    <tr>\n",
       "      <th>5717</th>\n",
       "      <td>0.249496</td>\n",
       "      <td>1.359764</td>\n",
       "      <td>1</td>\n",
       "    </tr>\n",
       "    <tr>\n",
       "      <th>3550</th>\n",
       "      <td>-0.412132</td>\n",
       "      <td>-0.748690</td>\n",
       "      <td>1</td>\n",
       "    </tr>\n",
       "    <tr>\n",
       "      <th>606</th>\n",
       "      <td>-1.313200</td>\n",
       "      <td>0.068472</td>\n",
       "      <td>1</td>\n",
       "    </tr>\n",
       "    <tr>\n",
       "      <th>4121</th>\n",
       "      <td>-0.236784</td>\n",
       "      <td>0.276030</td>\n",
       "      <td>0</td>\n",
       "    </tr>\n",
       "    <tr>\n",
       "      <th>8624</th>\n",
       "      <td>1.081459</td>\n",
       "      <td>-0.412491</td>\n",
       "      <td>1</td>\n",
       "    </tr>\n",
       "    <tr>\n",
       "      <th>...</th>\n",
       "      <td>...</td>\n",
       "      <td>...</td>\n",
       "      <td>...</td>\n",
       "    </tr>\n",
       "    <tr>\n",
       "      <th>206</th>\n",
       "      <td>-1.436889</td>\n",
       "      <td>0.322118</td>\n",
       "      <td>1</td>\n",
       "    </tr>\n",
       "    <tr>\n",
       "      <th>3464</th>\n",
       "      <td>-0.436899</td>\n",
       "      <td>0.807595</td>\n",
       "      <td>0</td>\n",
       "    </tr>\n",
       "    <tr>\n",
       "      <th>2995</th>\n",
       "      <td>-0.580807</td>\n",
       "      <td>1.231492</td>\n",
       "      <td>0</td>\n",
       "    </tr>\n",
       "    <tr>\n",
       "      <th>8015</th>\n",
       "      <td>0.909402</td>\n",
       "      <td>-1.337951</td>\n",
       "      <td>1</td>\n",
       "    </tr>\n",
       "    <tr>\n",
       "      <th>6718</th>\n",
       "      <td>0.540051</td>\n",
       "      <td>0.772787</td>\n",
       "      <td>0</td>\n",
       "    </tr>\n",
       "  </tbody>\n",
       "</table>\n",
       "<p>8192 rows × 3 columns</p>\n",
       "</div>"
      ],
      "text/plain": [
       "            x1        x2  Outcome\n",
       "5717  0.249496  1.359764        1\n",
       "3550 -0.412132 -0.748690        1\n",
       "606  -1.313200  0.068472        1\n",
       "4121 -0.236784  0.276030        0\n",
       "8624  1.081459 -0.412491        1\n",
       "...        ...       ...      ...\n",
       "206  -1.436889  0.322118        1\n",
       "3464 -0.436899  0.807595        0\n",
       "2995 -0.580807  1.231492        0\n",
       "8015  0.909402 -1.337951        1\n",
       "6718  0.540051  0.772787        0\n",
       "\n",
       "[8192 rows x 3 columns]"
      ]
     },
     "metadata": {},
     "execution_count": 53
    }
   ],
   "metadata": {}
  },
  {
   "cell_type": "code",
   "execution_count": 56,
   "source": [
    "x_black = np.array(d32[d32['Outcome']==1]['x1'])\n",
    "y_black = np.array(d32[d32['Outcome']==1]['x2'])\n",
    "x_red = np.array(d32[d32['Outcome']==0]['x1'])\n",
    "y_red = np.array(d32[d32['Outcome']==0]['x2'])\n",
    "\n",
    "plt.xlabel('x1')\n",
    "plt.ylabel('x2')\n",
    "\n",
    "plt.plot(x_black, y_black, 'o', color='black')\n",
    "plt.plot(x_red, y_red, 'o', color='purple')\n"
   ],
   "outputs": [
    {
     "output_type": "execute_result",
     "data": {
      "text/plain": [
       "[<matplotlib.lines.Line2D at 0x1439532b0>]"
      ]
     },
     "metadata": {},
     "execution_count": 56
    },
    {
     "output_type": "display_data",
     "data": {
      "image/png": "[encoded data removed]",
      "text/plain": [
       "<Figure size 432x288 with 1 Axes>"
      ]
     },
     "metadata": {}
    }
   ],
   "metadata": {}
  },
  {
   "cell_type": "code",
   "execution_count": 70,
   "source": [
    "from sklearn.tree import DecisionTreeClassifier\n",
    "clf = DecisionTreeClassifier(criterion=\"entropy\")\n"
   ],
   "outputs": [],
   "metadata": {}
  },
  {
   "cell_type": "code",
   "execution_count": 86,
   "source": [
    "x = d8192.drop(columns='Outcome')\n",
    "y = d8192['Outcome']\n",
    "model = clf.fit(x, y)\n",
    "clf.tree_.node_count"
   ],
   "outputs": [
    {
     "output_type": "execute_result",
     "data": {
      "text/plain": [
       "233"
      ]
     },
     "metadata": {},
     "execution_count": 86
    }
   ],
   "metadata": {}
  },
  {
   "cell_type": "code",
   "execution_count": 87,
   "source": [
    "x_test = df_test.drop(columns='Outcome')\n",
    "y_test = df_test['Outcome']\n",
    "model.score(x_test, y_test)\n",
    "# D32 0.8091814159292036 9 nodes\n",
    "# D128 0.9369469026548672    19 nodes\n",
    "# D512  0.963495575221239 33 nodes\n",
    "# D2048 0.9767699115044248 109 nodes\n",
    "# D8192 0.9905973451327433 233 nodes"
   ],
   "outputs": [
    {
     "output_type": "execute_result",
     "data": {
      "text/plain": [
       "0.9905973451327433"
      ]
     },
     "metadata": {},
     "execution_count": 87
    }
   ],
   "metadata": {}
  },
  {
   "cell_type": "code",
   "execution_count": 88,
   "source": [
    "n = [9, 19, 33, 109, 233]\n",
    "err = [1-0.8091814159292036, 1-0.9369469026548672, 1-0.963495575221239, 1-0.9767699115044248, 1-0.9905973451327433]\n",
    "plt.xlabel('n')\n",
    "plt.ylabel('error_n')\n",
    "\n",
    "plt.plot(n, err, '', color='black')"
   ],
   "outputs": [
    {
     "output_type": "execute_result",
     "data": {
      "text/plain": [
       "[<matplotlib.lines.Line2D at 0x1477baa00>]"
      ]
     },
     "metadata": {},
     "execution_count": 88
    },
    {
     "output_type": "display_data",
     "data": {
      "image/png": "[encoded data removed]",
      "text/plain": [
       "<Figure size 432x288 with 1 Axes>"
      ]
     },
     "metadata": {}
    }
   ],
   "metadata": {}
  },
  {
   "cell_type": "code",
   "execution_count": 54,
   "source": [
    "model = DecisionTree(d32, ['x1', 'x2'])\n",
    "model()\n",
    "model.predict(test_data=df_test)"
   ],
   "outputs": [
    {
     "output_type": "stream",
     "name": "stdout",
     "text": [
      "x1 Attribute, Threshold : -0.908328 IG: 0.07166438523386509\n",
      "x2 Attribute, Threshold : -0.589047 IG: 0.08504508994935256\n",
      "x1 Attribute, Threshold : 1.054293 IG: 0.09130084769693897\n",
      "x2 Attribute, Threshold : 1.359764 IG: 0.06462575723076325\n",
      "x1 Attribute, Threshold : -0.908328 IG: 0.18887565999998318\n",
      "x2 Attribute, Threshold : 1.359764 IG: 0.12832552168510553\n",
      "x1 Attribute, Threshold : 0.438179 IG: 0.032597134829355556\n",
      "x2 Attribute, Threshold : 1.359764 IG: 0.22834633225754192\n",
      "x1 Attribute, Threshold : -0.516233 IG: 0.15267663750274843\n",
      "x2 Attribute, Threshold : -0.295346 IG: 0.15267663750274843\n",
      "x1 -0.789914\n",
      "Yeah, remainder is zero\n",
      "x1 -0.789914\n",
      "Yeah, remainder is zero\n",
      "x1 Attribute, Threshold : -0.789914 IG: 0.8899750004807708\n",
      "x2 0.779292\n",
      "Yeah, remainder is zero\n",
      "x2 0.779292\n",
      "Yeah, remainder is zero\n",
      "x2 Attribute, Threshold : 0.779292 IG: 0.8899750004807708\n",
      "\n",
      " ****************************** \n",
      "\n",
      "Level  0 \n",
      "\n",
      "{'Headline': 'x2 >= -0.589047;  Gain = 0.08504508994935256',\n",
      " 'Level': 0,\n",
      " 'Predecessor': 32,\n",
      " 'Split': [24, 8]}\n",
      "\n",
      " ****************************** \n",
      "\n",
      "Level  1 \n",
      "\n",
      "{'Headline': 'x1 >= 1.054293;  Gain = 0.09130084769693897',\n",
      " 'Level': 1,\n",
      " 'Predecessor': 24,\n",
      " 'Split': [4, 20]}\n",
      "{'Instances': 8, 'Label': 1, 'Level': 1}\n",
      "\n",
      " ****************************** \n",
      "\n",
      "Level  2 \n",
      "\n",
      "{'Instances': 4, 'Label': 1, 'Level': 2}\n",
      "{'Headline': 'x1 >= -0.908328;  Gain = 0.18887565999998318',\n",
      " 'Level': 2,\n",
      " 'Predecessor': 20,\n",
      " 'Split': [16, 4]}\n",
      "\n",
      " ****************************** \n",
      "\n",
      "Level  3 \n",
      "\n",
      "{'Headline': 'x2 >= 1.359764;  Gain = 0.22834633225754192',\n",
      " 'Level': 3,\n",
      " 'Predecessor': 16,\n",
      " 'Split': [2, 14]}\n",
      "{'Instances': 4, 'Label': 1, 'Level': 3}\n",
      "\n",
      " ****************************** \n",
      "\n",
      "Level  4 \n",
      "\n",
      "{'Instances': 2, 'Label': 1, 'Level': 4}\n",
      "{'Headline': 'x1 >= -0.516233;  Gain = 0.15267663750274843',\n",
      " 'Level': 4,\n",
      " 'Predecessor': 14,\n",
      " 'Split': [12, 2]}\n",
      "\n",
      " ****************************** \n",
      "\n",
      "Level  5 \n",
      "\n",
      "{'Instances': 12, 'Label': 0, 'Level': 5}\n",
      "{'Headline': 'x1 >= -0.789914;  Gain = 0.8899750004807708',\n",
      " 'Level': 5,\n",
      " 'Predecessor': 2,\n",
      " 'Split': [1, 1]}\n",
      "\n",
      " ****************************** \n",
      "\n",
      "Level  6 \n",
      "\n",
      "{'Instances': 1, 'Label': 1, 'Level': 6}\n",
      "{'Instances': 1, 'Label': 0, 'Level': 6}\n",
      "Total Nodes:  6\n",
      "<DecisionTreeClassifier.Node object at 0x147b7fca0>\n",
      "{'Accuracy': 0.84, 'Error': 0.16000000000000003}\n"
     ]
    }
   ],
   "metadata": {}
  },
  {
   "cell_type": "code",
   "execution_count": 101,
   "source": [
    "n = [3, 8, 14, 40, 93]\n",
    "error = [0.2099, 0.06999995, 0.04000000, 0.020, 0.010]\n",
    "\n",
    "plt.xlabel('n')\n",
    "plt.ylabel('error_n')\n",
    "\n",
    "plt.plot(n, err, '', color='black')"
   ],
   "outputs": [
    {
     "output_type": "execute_result",
     "data": {
      "text/plain": [
       "[<matplotlib.lines.Line2D at 0x16888c310>]"
      ]
     },
     "metadata": {},
     "execution_count": 101
    },
    {
     "output_type": "display_data",
     "data": {
      "image/png": "[encoded data removed]",
      "text/plain": [
       "<Figure size 432x288 with 1 Axes>"
      ]
     },
     "metadata": {}
    }
   ],
   "metadata": {}
  },
  {
   "cell_type": "code",
   "execution_count": 29,
   "source": [
    "import numpy as np\n",
    "x = (10 - 0) * np.random.random_sample((100,))"
   ],
   "outputs": [],
   "metadata": {}
  },
  {
   "cell_type": "code",
   "execution_count": 30,
   "source": [
    "\n",
    "x"
   ],
   "outputs": [
    {
     "output_type": "execute_result",
     "data": {
      "text/plain": [
       "array([1.0852237 , 0.04411601, 9.40918797, 0.59810255, 8.21700782,\n",
       "       6.44394989, 0.11070319, 1.36883184, 5.86701729, 0.12300785,\n",
       "       7.69244964, 6.54376591, 1.10160003, 6.4915247 , 8.13180804,\n",
       "       5.78803141, 0.42476279, 8.16617098, 0.27516696, 6.31676595,\n",
       "       6.62912267, 3.7398856 , 8.84522324, 7.38016358, 0.4111116 ,\n",
       "       4.97336364, 1.27216908, 4.19397222, 2.65544187, 2.98012608,\n",
       "       6.84461668, 7.00324549, 9.18972635, 8.41653647, 6.03688893,\n",
       "       3.80293517, 7.41344992, 9.91790916, 7.67869421, 7.32455003,\n",
       "       0.10012846, 6.58183733, 1.38058523, 1.56479712, 7.10762097,\n",
       "       3.52063163, 6.09644318, 4.77881521, 7.80870265, 8.68558656,\n",
       "       1.48643288, 1.15626374, 6.79968189, 5.82615261, 3.54094411,\n",
       "       4.46315256, 4.08608062, 5.90107914, 1.92028203, 0.68692386,\n",
       "       3.00163285, 7.37492636, 1.19468524, 3.33953038, 9.96037875,\n",
       "       6.61648006, 4.65057216, 5.78922605, 0.55364039, 0.33188429,\n",
       "       1.62969419, 4.11053028, 2.9459911 , 7.7191664 , 2.66647199,\n",
       "       9.00804266, 1.31480034, 8.23886078, 2.00531526, 1.22556469,\n",
       "       8.27642067, 9.23775643, 9.41851536, 6.84041981, 3.98720066,\n",
       "       4.44639001, 9.65230628, 1.80125789, 2.81803041, 9.27311429,\n",
       "       3.52239692, 2.1685235 , 9.27717988, 0.64151723, 7.69053582,\n",
       "       8.60463366, 9.08176515, 4.33775368, 1.82507583, 2.22798875])"
      ]
     },
     "metadata": {},
     "execution_count": 30
    }
   ],
   "metadata": {}
  },
  {
   "cell_type": "code",
   "execution_count": 31,
   "source": [
    "y = np.sin(x)\n",
    "y"
   ],
   "outputs": [
    {
     "output_type": "execute_result",
     "data": {
      "text/plain": [
       "array([ 0.88440784,  0.0441017 ,  0.01558936,  0.56307542,  0.93482649,\n",
       "        0.16007298,  0.11047721,  0.9796744 , -0.40425853,  0.12269788,\n",
       "        0.98698205,  0.2576416 ,  0.89193199,  0.20683549,  0.96165385,\n",
       "       -0.47516707,  0.41210466,  0.95166341,  0.27170762,  0.03357434,\n",
       "        0.33907865, -0.56323276,  0.54765142,  0.88983265,  0.39962856,\n",
       "       -0.96613895,  0.95574126, -0.86860477,  0.46722612,  0.16076587,\n",
       "        0.53239839,  0.65942991,  0.23289317,  0.84589525, -0.24381378,\n",
       "       -0.61417688,  0.90452506, -0.47338633,  0.98467645,  0.86309427,\n",
       "        0.09996123,  0.29423216,  0.98196435,  0.999982  ,  0.73416473,\n",
       "       -0.37002783, -0.18565865, -0.99779459,  0.99897508,  0.67369057,\n",
       "        0.99644351,  0.91530468,  0.49383676, -0.44128729, -0.38882091,\n",
       "       -0.96910105, -0.81019691, -0.37287557,  0.93954894,  0.63416171,\n",
       "        0.13950332,  0.88743078,  0.93010009, -0.19664775, -0.51035779,\n",
       "        0.32715824, -0.99808995, -0.47411557,  0.52578728,  0.32582507,\n",
       "        0.99826602, -0.82428469,  0.19435665,  0.99092618,  0.45744575,\n",
       "        0.40477732,  0.96741158,  0.92684382,  0.90707267,  0.94099709,\n",
       "        0.91209168,  0.18593319,  0.00626256,  0.52884109, -0.74837453,\n",
       "       -0.96483038, -0.22557024,  0.97356107,  0.31794596,  0.15108292,\n",
       "       -0.37166725,  0.82661681,  0.14706276,  0.59841172,  0.98667244,\n",
       "        0.73124427,  0.33632591, -0.93064114,  0.96784479,  0.79171049])"
      ]
     },
     "metadata": {},
     "execution_count": 31
    }
   ],
   "metadata": {}
  },
  {
   "cell_type": "code",
   "execution_count": 33,
   "source": [
    "from scipy.interpolate import lagrange\n",
    "poly = lagrange(x, y)\n",
    "poly.coefficients\n"
   ],
   "outputs": [
    {
     "output_type": "execute_result",
     "data": {
      "text/plain": [
       "array([-1.67239212e-44,  9.85493532e-42, -2.37773262e-39,  3.02379745e-37,\n",
       "       -3.23740047e-35,  2.54221523e-33, -1.02535610e-32,  1.28717386e-29,\n",
       "       -5.65826531e-28,  1.88635798e-26,  2.76295506e-25,  1.38536577e-23,\n",
       "        5.91238264e-23,  2.61940125e-20,  3.12496727e-19, -3.98452374e-18,\n",
       "        3.39937131e-16, -6.56890991e-17,  1.18509914e-13, -2.22402117e-12,\n",
       "       -1.10367424e-11,  4.81897345e-10, -3.56679608e-09, -1.53161914e-08,\n",
       "       -3.00369420e-06,  3.96378402e-06,  3.23893161e-04, -3.98475604e-04,\n",
       "       -4.30489988e-02,  3.46192223e-01, -3.24481946e+00,  2.64595094e+01,\n",
       "       -5.37846997e+02,  2.49459236e+03, -4.07233208e+04,  8.38963711e+04,\n",
       "       -5.18023977e+05, -1.01757027e+07,  9.51495881e+07, -3.49807591e+08,\n",
       "        1.12765171e+09, -9.97759526e+09,  9.35594360e+10, -4.36233630e+11,\n",
       "        2.06905043e+12, -1.23557716e+13,  4.48904951e+13, -1.88816402e+14,\n",
       "        5.60556497e+14, -1.07888465e+15,  6.43746279e+15, -7.21861502e+15,\n",
       "       -3.59334853e+16, -1.30836678e+17,  9.06211054e+17, -8.21597733e+17,\n",
       "        6.95987208e+18, -1.82751739e+19,  5.98155585e+19, -1.56370913e+20,\n",
       "        4.12036494e+20, -6.43716355e+20,  1.58358643e+21, -2.21210819e+21,\n",
       "        5.34884490e+21, -9.49612595e+21,  1.32330122e+22, -1.77273967e+22,\n",
       "        2.60491148e+22, -1.21902140e+22,  3.57468912e+22, -3.22099998e+22,\n",
       "        3.66784277e+22, -4.98473597e+22,  1.71965967e+22, -3.35666621e+22,\n",
       "        2.23558624e+22, -3.16541744e+22,  2.32223424e+22, -1.18589661e+22,\n",
       "        4.74877286e+21, -6.26643836e+21,  1.14051767e+21, -8.65285612e+20,\n",
       "        3.94313799e+20, -2.08228247e+20,  6.33181557e+19, -1.07674689e+19,\n",
       "        1.36566482e+18, -6.26976422e+17,  7.43688408e+16, -2.08152531e+16,\n",
       "        4.17468182e+15, -6.74777607e+14,  6.92576078e+13, -4.90516815e+12,\n",
       "        3.14069055e+11, -2.19015685e+10,  3.16594757e+08, -1.75076971e+06])"
      ]
     },
     "metadata": {},
     "execution_count": 33
    }
   ],
   "metadata": {}
  },
  {
   "cell_type": "code",
   "execution_count": 109,
   "source": [
    "x_test = (10 - 0) * np.random.random_sample((10,))\n",
    "y_test = np.sin(x_test)"
   ],
   "outputs": [],
   "metadata": {}
  },
  {
   "cell_type": "code",
   "execution_count": 34,
   "source": [
    "from sklearn.metrics import mean_absolute_error\n",
    "\n",
    "mean_absolute_error(poly(x), y)"
   ],
   "outputs": [
    {
     "output_type": "execute_result",
     "data": {
      "text/plain": [
       "1.2426298372857457e+68"
      ]
     },
     "metadata": {},
     "execution_count": 34
    }
   ],
   "metadata": {}
  },
  {
   "cell_type": "code",
   "execution_count": 36,
   "source": [
    "x_test = (10 - 0) * np.random.random_sample((10,))\n",
    "y_test = np.sin(x_test)\n",
    "mean_absolute_error(poly(x_test), y_test)"
   ],
   "outputs": [
    {
     "output_type": "execute_result",
     "data": {
      "text/plain": [
       "3.5259340923635824e+68"
      ]
     },
     "metadata": {},
     "execution_count": 36
    }
   ],
   "metadata": {}
  },
  {
   "cell_type": "code",
   "execution_count": 44,
   "source": [
    "noise = np.random.normal(0, 1, 100)\n",
    "x = noise+x\n",
    "poly = lagrange(x, y)\n",
    "mean_absolute_error(poly(x), y)\n"
   ],
   "outputs": [
    {
     "output_type": "execute_result",
     "data": {
      "text/plain": [
       "2.285069442486491e+70"
      ]
     },
     "metadata": {},
     "execution_count": 44
    }
   ],
   "metadata": {}
  },
  {
   "cell_type": "code",
   "execution_count": 45,
   "source": [
    "x_test = (10 - 0) * np.random.random_sample((100,)) + np.random.normal(0, 1, 100)\n",
    "y_test = np.sin(x_test)\n",
    "mean_absolute_error(poly(x_test), y_test)"
   ],
   "outputs": [
    {
     "output_type": "execute_result",
     "data": {
      "text/plain": [
       "5.084587742799037e+67"
      ]
     },
     "metadata": {},
     "execution_count": 45
    }
   ],
   "metadata": {}
  },
  {
   "cell_type": "code",
   "execution_count": 46,
   "source": [
    "noise = np.random.normal(0, 10, 100)\n",
    "x = noise+x\n",
    "poly = lagrange(x, y)\n",
    "mean_absolute_error(poly(x), y)\n"
   ],
   "outputs": [
    {
     "output_type": "execute_result",
     "data": {
      "text/plain": [
       "9.865928902888427e+65"
      ]
     },
     "metadata": {},
     "execution_count": 46
    }
   ],
   "metadata": {}
  },
  {
   "cell_type": "code",
   "execution_count": 47,
   "source": [
    "x_test = (10 - 0) * np.random.random_sample((100,)) + np.random.normal(0, 10, 100)\n",
    "y_test = np.sin(x_test)\n",
    "mean_absolute_error(poly(x_test), y_test)"
   ],
   "outputs": [
    {
     "output_type": "execute_result",
     "data": {
      "text/plain": [
       "3.563889962553354e+65"
      ]
     },
     "metadata": {},
     "execution_count": 47
    }
   ],
   "metadata": {}
  },
  {
   "cell_type": "code",
   "execution_count": 48,
   "source": [
    "noise = np.random.normal(0, 50, 100)\n",
    "x = noise+x\n",
    "poly = lagrange(x, y)\n",
    "mean_absolute_error(poly(x), y)"
   ],
   "outputs": [
    {
     "output_type": "execute_result",
     "data": {
      "text/plain": [
       "9.680045818333048e+55"
      ]
     },
     "metadata": {},
     "execution_count": 48
    }
   ],
   "metadata": {}
  },
  {
   "cell_type": "code",
   "execution_count": 49,
   "source": [
    "x_test = (10 - 0) * np.random.random_sample((100,)) + np.random.normal(0, 50, 100)\n",
    "y_test = np.sin(x_test)\n",
    "mean_absolute_error(poly(x_test), y_test)"
   ],
   "outputs": [
    {
     "output_type": "execute_result",
     "data": {
      "text/plain": [
       "5.79185303030396e+71"
      ]
     },
     "metadata": {},
     "execution_count": 49
    }
   ],
   "metadata": {}
  },
  {
   "cell_type": "code",
   "execution_count": 3,
   "source": [
    "import matplotlib.pyplot as plt\n",
    "plt.style.use('seaborn-whitegrid')\n",
    "import numpy as np\n",
    "x1 = [0, 0, 1, 1]\n",
    "x2 = [0, 1, 0, 1]\n",
    "\n",
    "plt.xlabel('X1')\n",
    "plt.ylabel('X2')\n",
    "\n",
    "plt.plot(x1, x2, 'x', color='black')"
   ],
   "outputs": [
    {
     "output_type": "execute_result",
     "data": {
      "text/plain": [
       "[<matplotlib.lines.Line2D at 0x12ec77f10>]"
      ]
     },
     "metadata": {},
     "execution_count": 3
    },
    {
     "output_type": "display_data",
     "data": {
      "image/png": "[encoded data removed]",
      "text/plain": [
       "<Figure size 432x288 with 1 Axes>"
      ]
     },
     "metadata": {}
    }
   ],
   "metadata": {}
  },
  {
   "cell_type": "code",
   "execution_count": null,
   "source": [],
   "outputs": [],
   "metadata": {}
  }
 ],
 "metadata": {
  "kernelspec": {
   "name": "python3",
   "display_name": "Python 3.9.7 64-bit ('cs760': conda)"
  },
  "language_info": {
   "codemirror_mode": {
    "name": "ipython",
    "version": 3
   },
   "file_extension": ".py",
   "mimetype": "text/x-python",
   "name": "python",
   "nbconvert_exporter": "python",
   "pygments_lexer": "ipython3",
   "version": "3.9.7"
  },
  "interpreter": {
   "hash": "588b978d2ad8847b229327b4490002bc8c6c831f97cbd8cb9bb91d695446d915"
  }
 },
 "nbformat": 4,
 "nbformat_minor": 5
}