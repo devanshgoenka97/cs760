{
  "nbformat": 4,
  "nbformat_minor": 5,
  "metadata": {
    "accelerator": "GPU",
    "colab": {
      "name": "gan-base-1c-altk.ipynb",
      "provenance": [],
      "collapsed_sections": []
    },
    "kernelspec": {
      "display_name": "Python 3",
      "language": "python",
      "name": "python3"
    },
    "language_info": {
      "codemirror_mode": {
        "name": "ipython",
        "version": 3
      },
      "file_extension": ".py",
      "mimetype": "text/x-python",
      "name": "python",
      "nbconvert_exporter": "python",
      "pygments_lexer": "ipython3",
      "version": "3.8.10"
    },
    "widgets": {
      "application/vnd.jupyter.widget-state+json": {
        "cc6c82c41987412190ddfde1f4a42bb6": {
          "model_module": "@jupyter-widgets/controls",
          "model_name": "HBoxModel",
          "model_module_version": "1.5.0",
          "state": {
            "_dom_classes": [],
            "_model_module": "@jupyter-widgets/controls",
            "_model_module_version": "1.5.0",
            "_model_name": "HBoxModel",
            "_view_count": null,
            "_view_module": "@jupyter-widgets/controls",
            "_view_module_version": "1.5.0",
            "_view_name": "HBoxView",
            "box_style": "",
            "children": [
              "IPY_MODEL_bc9facbc236e411a8ceb8496bca9d22a",
              "IPY_MODEL_e6853e8f2687498bad2feb08d1a17daa",
              "IPY_MODEL_594252777bc7414cb152c0e6789add8a"
            ],
            "layout": "IPY_MODEL_03cc14581423454db59f96168d394daf"
          }
        },
        "bc9facbc236e411a8ceb8496bca9d22a": {
          "model_module": "@jupyter-widgets/controls",
          "model_name": "HTMLModel",
          "model_module_version": "1.5.0",
          "state": {
            "_dom_classes": [],
            "_model_module": "@jupyter-widgets/controls",
            "_model_module_version": "1.5.0",
            "_model_name": "HTMLModel",
            "_view_count": null,
            "_view_module": "@jupyter-widgets/controls",
            "_view_module_version": "1.5.0",
            "_view_name": "HTMLView",
            "description": "",
            "description_tooltip": null,
            "layout": "IPY_MODEL_431864133b2144f68e13177de6ec8ee7",
            "placeholder": "​",
            "style": "IPY_MODEL_b0b397e15eae4fc4b63ebab2db3fc4ae",
            "value": ""
          }
        },
        "e6853e8f2687498bad2feb08d1a17daa": {
          "model_module": "@jupyter-widgets/controls",
          "model_name": "FloatProgressModel",
          "model_module_version": "1.5.0",
          "state": {
            "_dom_classes": [],
            "_model_module": "@jupyter-widgets/controls",
            "_model_module_version": "1.5.0",
            "_model_name": "FloatProgressModel",
            "_view_count": null,
            "_view_module": "@jupyter-widgets/controls",
            "_view_module_version": "1.5.0",
            "_view_name": "ProgressView",
            "bar_style": "success",
            "description": "",
            "description_tooltip": null,
            "layout": "IPY_MODEL_8f67b60a4bfd45679c736985b03f3b93",
            "max": 9912422,
            "min": 0,
            "orientation": "horizontal",
            "style": "IPY_MODEL_4dd552c851344f4d8c1e7ee004cbe000",
            "value": 9912422
          }
        },
        "594252777bc7414cb152c0e6789add8a": {
          "model_module": "@jupyter-widgets/controls",
          "model_name": "HTMLModel",
          "model_module_version": "1.5.0",
          "state": {
            "_dom_classes": [],
            "_model_module": "@jupyter-widgets/controls",
            "_model_module_version": "1.5.0",
            "_model_name": "HTMLModel",
            "_view_count": null,
            "_view_module": "@jupyter-widgets/controls",
            "_view_module_version": "1.5.0",
            "_view_name": "HTMLView",
            "description": "",
            "description_tooltip": null,
            "layout": "IPY_MODEL_0050b1b591ef4027b971050193505d1a",
            "placeholder": "​",
            "style": "IPY_MODEL_eb2f8d4fe54a42b8a79b6a3d7c570055",
            "value": " 9913344/? [00:00&lt;00:00, 47112134.22it/s]"
          }
        },
        "03cc14581423454db59f96168d394daf": {
          "model_module": "@jupyter-widgets/base",
          "model_name": "LayoutModel",
          "model_module_version": "1.2.0",
          "state": {
            "_model_module": "@jupyter-widgets/base",
            "_model_module_version": "1.2.0",
            "_model_name": "LayoutModel",
            "_view_count": null,
            "_view_module": "@jupyter-widgets/base",
            "_view_module_version": "1.2.0",
            "_view_name": "LayoutView",
            "align_content": null,
            "align_items": null,
            "align_self": null,
            "border": null,
            "bottom": null,
            "display": null,
            "flex": null,
            "flex_flow": null,
            "grid_area": null,
            "grid_auto_columns": null,
            "grid_auto_flow": null,
            "grid_auto_rows": null,
            "grid_column": null,
            "grid_gap": null,
            "grid_row": null,
            "grid_template_areas": null,
            "grid_template_columns": null,
            "grid_template_rows": null,
            "height": null,
            "justify_content": null,
            "justify_items": null,
            "left": null,
            "margin": null,
            "max_height": null,
            "max_width": null,
            "min_height": null,
            "min_width": null,
            "object_fit": null,
            "object_position": null,
            "order": null,
            "overflow": null,
            "overflow_x": null,
            "overflow_y": null,
            "padding": null,
            "right": null,
            "top": null,
            "visibility": null,
            "width": null
          }
        },
        "431864133b2144f68e13177de6ec8ee7": {
          "model_module": "@jupyter-widgets/base",
          "model_name": "LayoutModel",
          "model_module_version": "1.2.0",
          "state": {
            "_model_module": "@jupyter-widgets/base",
            "_model_module_version": "1.2.0",
            "_model_name": "LayoutModel",
            "_view_count": null,
            "_view_module": "@jupyter-widgets/base",
            "_view_module_version": "1.2.0",
            "_view_name": "LayoutView",
            "align_content": null,
            "align_items": null,
            "align_self": null,
            "border": null,
            "bottom": null,
            "display": null,
            "flex": null,
            "flex_flow": null,
            "grid_area": null,
            "grid_auto_columns": null,
            "grid_auto_flow": null,
            "grid_auto_rows": null,
            "grid_column": null,
            "grid_gap": null,
            "grid_row": null,
            "grid_template_areas": null,
            "grid_template_columns": null,
            "grid_template_rows": null,
            "height": null,
            "justify_content": null,
            "justify_items": null,
            "left": null,
            "margin": null,
            "max_height": null,
            "max_width": null,
            "min_height": null,
            "min_width": null,
            "object_fit": null,
            "object_position": null,
            "order": null,
            "overflow": null,
            "overflow_x": null,
            "overflow_y": null,
            "padding": null,
            "right": null,
            "top": null,
            "visibility": null,
            "width": null
          }
        },
        "b0b397e15eae4fc4b63ebab2db3fc4ae": {
          "model_module": "@jupyter-widgets/controls",
          "model_name": "DescriptionStyleModel",
          "model_module_version": "1.5.0",
          "state": {
            "_model_module": "@jupyter-widgets/controls",
            "_model_module_version": "1.5.0",
            "_model_name": "DescriptionStyleModel",
            "_view_count": null,
            "_view_module": "@jupyter-widgets/base",
            "_view_module_version": "1.2.0",
            "_view_name": "StyleView",
            "description_width": ""
          }
        },
        "8f67b60a4bfd45679c736985b03f3b93": {
          "model_module": "@jupyter-widgets/base",
          "model_name": "LayoutModel",
          "model_module_version": "1.2.0",
          "state": {
            "_model_module": "@jupyter-widgets/base",
            "_model_module_version": "1.2.0",
            "_model_name": "LayoutModel",
            "_view_count": null,
            "_view_module": "@jupyter-widgets/base",
            "_view_module_version": "1.2.0",
            "_view_name": "LayoutView",
            "align_content": null,
            "align_items": null,
            "align_self": null,
            "border": null,
            "bottom": null,
            "display": null,
            "flex": null,
            "flex_flow": null,
            "grid_area": null,
            "grid_auto_columns": null,
            "grid_auto_flow": null,
            "grid_auto_rows": null,
            "grid_column": null,
            "grid_gap": null,
            "grid_row": null,
            "grid_template_areas": null,
            "grid_template_columns": null,
            "grid_template_rows": null,
            "height": null,
            "justify_content": null,
            "justify_items": null,
            "left": null,
            "margin": null,
            "max_height": null,
            "max_width": null,
            "min_height": null,
            "min_width": null,
            "object_fit": null,
            "object_position": null,
            "order": null,
            "overflow": null,
            "overflow_x": null,
            "overflow_y": null,
            "padding": null,
            "right": null,
            "top": null,
            "visibility": null,
            "width": null
          }
        },
        "4dd552c851344f4d8c1e7ee004cbe000": {
          "model_module": "@jupyter-widgets/controls",
          "model_name": "ProgressStyleModel",
          "model_module_version": "1.5.0",
          "state": {
            "_model_module": "@jupyter-widgets/controls",
            "_model_module_version": "1.5.0",
            "_model_name": "ProgressStyleModel",
            "_view_count": null,
            "_view_module": "@jupyter-widgets/base",
            "_view_module_version": "1.2.0",
            "_view_name": "StyleView",
            "bar_color": null,
            "description_width": ""
          }
        },
        "0050b1b591ef4027b971050193505d1a": {
          "model_module": "@jupyter-widgets/base",
          "model_name": "LayoutModel",
          "model_module_version": "1.2.0",
          "state": {
            "_model_module": "@jupyter-widgets/base",
            "_model_module_version": "1.2.0",
            "_model_name": "LayoutModel",
            "_view_count": null,
            "_view_module": "@jupyter-widgets/base",
            "_view_module_version": "1.2.0",
            "_view_name": "LayoutView",
            "align_content": null,
            "align_items": null,
            "align_self": null,
            "border": null,
            "bottom": null,
            "display": null,
            "flex": null,
            "flex_flow": null,
            "grid_area": null,
            "grid_auto_columns": null,
            "grid_auto_flow": null,
            "grid_auto_rows": null,
            "grid_column": null,
            "grid_gap": null,
            "grid_row": null,
            "grid_template_areas": null,
            "grid_template_columns": null,
            "grid_template_rows": null,
            "height": null,
            "justify_content": null,
            "justify_items": null,
            "left": null,
            "margin": null,
            "max_height": null,
            "max_width": null,
            "min_height": null,
            "min_width": null,
            "object_fit": null,
            "object_position": null,
            "order": null,
            "overflow": null,
            "overflow_x": null,
            "overflow_y": null,
            "padding": null,
            "right": null,
            "top": null,
            "visibility": null,
            "width": null
          }
        },
        "eb2f8d4fe54a42b8a79b6a3d7c570055": {
          "model_module": "@jupyter-widgets/controls",
          "model_name": "DescriptionStyleModel",
          "model_module_version": "1.5.0",
          "state": {
            "_model_module": "@jupyter-widgets/controls",
            "_model_module_version": "1.5.0",
            "_model_name": "DescriptionStyleModel",
            "_view_count": null,
            "_view_module": "@jupyter-widgets/base",
            "_view_module_version": "1.2.0",
            "_view_name": "StyleView",
            "description_width": ""
          }
        },
        "f7ba9677c8bf44b897d1f08a2d9c61c1": {
          "model_module": "@jupyter-widgets/controls",
          "model_name": "HBoxModel",
          "model_module_version": "1.5.0",
          "state": {
            "_dom_classes": [],
            "_model_module": "@jupyter-widgets/controls",
            "_model_module_version": "1.5.0",
            "_model_name": "HBoxModel",
            "_view_count": null,
            "_view_module": "@jupyter-widgets/controls",
            "_view_module_version": "1.5.0",
            "_view_name": "HBoxView",
            "box_style": "",
            "children": [
              "IPY_MODEL_e8633dee21d04654847873c296a36fd3",
              "IPY_MODEL_9e14fb28a2dd4c93b80affed7d5bc243",
              "IPY_MODEL_058ec5c59f684b6eac5e7c8250806256"
            ],
            "layout": "IPY_MODEL_0582bc7c755742d3aeb44821932dbf96"
          }
        },
        "e8633dee21d04654847873c296a36fd3": {
          "model_module": "@jupyter-widgets/controls",
          "model_name": "HTMLModel",
          "model_module_version": "1.5.0",
          "state": {
            "_dom_classes": [],
            "_model_module": "@jupyter-widgets/controls",
            "_model_module_version": "1.5.0",
            "_model_name": "HTMLModel",
            "_view_count": null,
            "_view_module": "@jupyter-widgets/controls",
            "_view_module_version": "1.5.0",
            "_view_name": "HTMLView",
            "description": "",
            "description_tooltip": null,
            "layout": "IPY_MODEL_8e898355e0f044d79e5e76fde8448ce9",
            "placeholder": "​",
            "style": "IPY_MODEL_0c1fd53f1d054abaae4d711328a857c6",
            "value": ""
          }
        },
        "9e14fb28a2dd4c93b80affed7d5bc243": {
          "model_module": "@jupyter-widgets/controls",
          "model_name": "FloatProgressModel",
          "model_module_version": "1.5.0",
          "state": {
            "_dom_classes": [],
            "_model_module": "@jupyter-widgets/controls",
            "_model_module_version": "1.5.0",
            "_model_name": "FloatProgressModel",
            "_view_count": null,
            "_view_module": "@jupyter-widgets/controls",
            "_view_module_version": "1.5.0",
            "_view_name": "ProgressView",
            "bar_style": "success",
            "description": "",
            "description_tooltip": null,
            "layout": "IPY_MODEL_4ebfda89d81946578653c91ea40f9ec3",
            "max": 28881,
            "min": 0,
            "orientation": "horizontal",
            "style": "IPY_MODEL_f1e9b5cc56a944af8f222db0e2aa7252",
            "value": 28881
          }
        },
        "058ec5c59f684b6eac5e7c8250806256": {
          "model_module": "@jupyter-widgets/controls",
          "model_name": "HTMLModel",
          "model_module_version": "1.5.0",
          "state": {
            "_dom_classes": [],
            "_model_module": "@jupyter-widgets/controls",
            "_model_module_version": "1.5.0",
            "_model_name": "HTMLModel",
            "_view_count": null,
            "_view_module": "@jupyter-widgets/controls",
            "_view_module_version": "1.5.0",
            "_view_name": "HTMLView",
            "description": "",
            "description_tooltip": null,
            "layout": "IPY_MODEL_fe6d8620815f4adf96d3f9809c5c227e",
            "placeholder": "​",
            "style": "IPY_MODEL_2f969731bb014656aecd0df9c7484a60",
            "value": " 29696/? [00:00&lt;00:00, 582771.72it/s]"
          }
        },
        "0582bc7c755742d3aeb44821932dbf96": {
          "model_module": "@jupyter-widgets/base",
          "model_name": "LayoutModel",
          "model_module_version": "1.2.0",
          "state": {
            "_model_module": "@jupyter-widgets/base",
            "_model_module_version": "1.2.0",
            "_model_name": "LayoutModel",
            "_view_count": null,
            "_view_module": "@jupyter-widgets/base",
            "_view_module_version": "1.2.0",
            "_view_name": "LayoutView",
            "align_content": null,
            "align_items": null,
            "align_self": null,
            "border": null,
            "bottom": null,
            "display": null,
            "flex": null,
            "flex_flow": null,
            "grid_area": null,
            "grid_auto_columns": null,
            "grid_auto_flow": null,
            "grid_auto_rows": null,
            "grid_column": null,
            "grid_gap": null,
            "grid_row": null,
            "grid_template_areas": null,
            "grid_template_columns": null,
            "grid_template_rows": null,
            "height": null,
            "justify_content": null,
            "justify_items": null,
            "left": null,
            "margin": null,
            "max_height": null,
            "max_width": null,
            "min_height": null,
            "min_width": null,
            "object_fit": null,
            "object_position": null,
            "order": null,
            "overflow": null,
            "overflow_x": null,
            "overflow_y": null,
            "padding": null,
            "right": null,
            "top": null,
            "visibility": null,
            "width": null
          }
        },
        "8e898355e0f044d79e5e76fde8448ce9": {
          "model_module": "@jupyter-widgets/base",
          "model_name": "LayoutModel",
          "model_module_version": "1.2.0",
          "state": {
            "_model_module": "@jupyter-widgets/base",
            "_model_module_version": "1.2.0",
            "_model_name": "LayoutModel",
            "_view_count": null,
            "_view_module": "@jupyter-widgets/base",
            "_view_module_version": "1.2.0",
            "_view_name": "LayoutView",
            "align_content": null,
            "align_items": null,
            "align_self": null,
            "border": null,
            "bottom": null,
            "display": null,
            "flex": null,
            "flex_flow": null,
            "grid_area": null,
            "grid_auto_columns": null,
            "grid_auto_flow": null,
            "grid_auto_rows": null,
            "grid_column": null,
            "grid_gap": null,
            "grid_row": null,
            "grid_template_areas": null,
            "grid_template_columns": null,
            "grid_template_rows": null,
            "height": null,
            "justify_content": null,
            "justify_items": null,
            "left": null,
            "margin": null,
            "max_height": null,
            "max_width": null,
            "min_height": null,
            "min_width": null,
            "object_fit": null,
            "object_position": null,
            "order": null,
            "overflow": null,
            "overflow_x": null,
            "overflow_y": null,
            "padding": null,
            "right": null,
            "top": null,
            "visibility": null,
            "width": null
          }
        },
        "0c1fd53f1d054abaae4d711328a857c6": {
          "model_module": "@jupyter-widgets/controls",
          "model_name": "DescriptionStyleModel",
          "model_module_version": "1.5.0",
          "state": {
            "_model_module": "@jupyter-widgets/controls",
            "_model_module_version": "1.5.0",
            "_model_name": "DescriptionStyleModel",
            "_view_count": null,
            "_view_module": "@jupyter-widgets/base",
            "_view_module_version": "1.2.0",
            "_view_name": "StyleView",
            "description_width": ""
          }
        },
        "4ebfda89d81946578653c91ea40f9ec3": {
          "model_module": "@jupyter-widgets/base",
          "model_name": "LayoutModel",
          "model_module_version": "1.2.0",
          "state": {
            "_model_module": "@jupyter-widgets/base",
            "_model_module_version": "1.2.0",
            "_model_name": "LayoutModel",
            "_view_count": null,
            "_view_module": "@jupyter-widgets/base",
            "_view_module_version": "1.2.0",
            "_view_name": "LayoutView",
            "align_content": null,
            "align_items": null,
            "align_self": null,
            "border": null,
            "bottom": null,
            "display": null,
            "flex": null,
            "flex_flow": null,
            "grid_area": null,
            "grid_auto_columns": null,
            "grid_auto_flow": null,
            "grid_auto_rows": null,
            "grid_column": null,
            "grid_gap": null,
            "grid_row": null,
            "grid_template_areas": null,
            "grid_template_columns": null,
            "grid_template_rows": null,
            "height": null,
            "justify_content": null,
            "justify_items": null,
            "left": null,
            "margin": null,
            "max_height": null,
            "max_width": null,
            "min_height": null,
            "min_width": null,
            "object_fit": null,
            "object_position": null,
            "order": null,
            "overflow": null,
            "overflow_x": null,
            "overflow_y": null,
            "padding": null,
            "right": null,
            "top": null,
            "visibility": null,
            "width": null
          }
        },
        "f1e9b5cc56a944af8f222db0e2aa7252": {
          "model_module": "@jupyter-widgets/controls",
          "model_name": "ProgressStyleModel",
          "model_module_version": "1.5.0",
          "state": {
            "_model_module": "@jupyter-widgets/controls",
            "_model_module_version": "1.5.0",
            "_model_name": "ProgressStyleModel",
            "_view_count": null,
            "_view_module": "@jupyter-widgets/base",
            "_view_module_version": "1.2.0",
            "_view_name": "StyleView",
            "bar_color": null,
            "description_width": ""
          }
        },
        "fe6d8620815f4adf96d3f9809c5c227e": {
          "model_module": "@jupyter-widgets/base",
          "model_name": "LayoutModel",
          "model_module_version": "1.2.0",
          "state": {
            "_model_module": "@jupyter-widgets/base",
            "_model_module_version": "1.2.0",
            "_model_name": "LayoutModel",
            "_view_count": null,
            "_view_module": "@jupyter-widgets/base",
            "_view_module_version": "1.2.0",
            "_view_name": "LayoutView",
            "align_content": null,
            "align_items": null,
            "align_self": null,
            "border": null,
            "bottom": null,
            "display": null,
            "flex": null,
            "flex_flow": null,
            "grid_area": null,
            "grid_auto_columns": null,
            "grid_auto_flow": null,
            "grid_auto_rows": null,
            "grid_column": null,
            "grid_gap": null,
            "grid_row": null,
            "grid_template_areas": null,
            "grid_template_columns": null,
            "grid_template_rows": null,
            "height": null,
            "justify_content": null,
            "justify_items": null,
            "left": null,
            "margin": null,
            "max_height": null,
            "max_width": null,
            "min_height": null,
            "min_width": null,
            "object_fit": null,
            "object_position": null,
            "order": null,
            "overflow": null,
            "overflow_x": null,
            "overflow_y": null,
            "padding": null,
            "right": null,
            "top": null,
            "visibility": null,
            "width": null
          }
        },
        "2f969731bb014656aecd0df9c7484a60": {
          "model_module": "@jupyter-widgets/controls",
          "model_name": "DescriptionStyleModel",
          "model_module_version": "1.5.0",
          "state": {
            "_model_module": "@jupyter-widgets/controls",
            "_model_module_version": "1.5.0",
            "_model_name": "DescriptionStyleModel",
            "_view_count": null,
            "_view_module": "@jupyter-widgets/base",
            "_view_module_version": "1.2.0",
            "_view_name": "StyleView",
            "description_width": ""
          }
        },
        "237780d3ccef43bfb676aa956d1407cb": {
          "model_module": "@jupyter-widgets/controls",
          "model_name": "HBoxModel",
          "model_module_version": "1.5.0",
          "state": {
            "_dom_classes": [],
            "_model_module": "@jupyter-widgets/controls",
            "_model_module_version": "1.5.0",
            "_model_name": "HBoxModel",
            "_view_count": null,
            "_view_module": "@jupyter-widgets/controls",
            "_view_module_version": "1.5.0",
            "_view_name": "HBoxView",
            "box_style": "",
            "children": [
              "IPY_MODEL_cb423da4cf5e4adf809d04e01bcecb29",
              "IPY_MODEL_a7281842d64e4988b8917cec446c74ed",
              "IPY_MODEL_ef39a97b438c4ae8a0b3d2ec8d4aedc3"
            ],
            "layout": "IPY_MODEL_711e6ca3995a4194ae015b7592264d07"
          }
        },
        "cb423da4cf5e4adf809d04e01bcecb29": {
          "model_module": "@jupyter-widgets/controls",
          "model_name": "HTMLModel",
          "model_module_version": "1.5.0",
          "state": {
            "_dom_classes": [],
            "_model_module": "@jupyter-widgets/controls",
            "_model_module_version": "1.5.0",
            "_model_name": "HTMLModel",
            "_view_count": null,
            "_view_module": "@jupyter-widgets/controls",
            "_view_module_version": "1.5.0",
            "_view_name": "HTMLView",
            "description": "",
            "description_tooltip": null,
            "layout": "IPY_MODEL_ca046f5a5f244d6a8728c8360d22cbc0",
            "placeholder": "​",
            "style": "IPY_MODEL_3a6c55a72cfe406cb10e46cf4833880f",
            "value": ""
          }
        },
        "a7281842d64e4988b8917cec446c74ed": {
          "model_module": "@jupyter-widgets/controls",
          "model_name": "FloatProgressModel",
          "model_module_version": "1.5.0",
          "state": {
            "_dom_classes": [],
            "_model_module": "@jupyter-widgets/controls",
            "_model_module_version": "1.5.0",
            "_model_name": "FloatProgressModel",
            "_view_count": null,
            "_view_module": "@jupyter-widgets/controls",
            "_view_module_version": "1.5.0",
            "_view_name": "ProgressView",
            "bar_style": "success",
            "description": "",
            "description_tooltip": null,
            "layout": "IPY_MODEL_9902d784923a4f49afe84891554e597f",
            "max": 1648877,
            "min": 0,
            "orientation": "horizontal",
            "style": "IPY_MODEL_f485b157729f46e48706b2d06ed6a618",
            "value": 1648877
          }
        },
        "ef39a97b438c4ae8a0b3d2ec8d4aedc3": {
          "model_module": "@jupyter-widgets/controls",
          "model_name": "HTMLModel",
          "model_module_version": "1.5.0",
          "state": {
            "_dom_classes": [],
            "_model_module": "@jupyter-widgets/controls",
            "_model_module_version": "1.5.0",
            "_model_name": "HTMLModel",
            "_view_count": null,
            "_view_module": "@jupyter-widgets/controls",
            "_view_module_version": "1.5.0",
            "_view_name": "HTMLView",
            "description": "",
            "description_tooltip": null,
            "layout": "IPY_MODEL_89f5d9f7f1924c14a6fb1cde6ea3b6e2",
            "placeholder": "​",
            "style": "IPY_MODEL_1d39243139bd45aba01742efc168af62",
            "value": " 1649664/? [00:00&lt;00:00, 10662329.62it/s]"
          }
        },
        "711e6ca3995a4194ae015b7592264d07": {
          "model_module": "@jupyter-widgets/base",
          "model_name": "LayoutModel",
          "model_module_version": "1.2.0",
          "state": {
            "_model_module": "@jupyter-widgets/base",
            "_model_module_version": "1.2.0",
            "_model_name": "LayoutModel",
            "_view_count": null,
            "_view_module": "@jupyter-widgets/base",
            "_view_module_version": "1.2.0",
            "_view_name": "LayoutView",
            "align_content": null,
            "align_items": null,
            "align_self": null,
            "border": null,
            "bottom": null,
            "display": null,
            "flex": null,
            "flex_flow": null,
            "grid_area": null,
            "grid_auto_columns": null,
            "grid_auto_flow": null,
            "grid_auto_rows": null,
            "grid_column": null,
            "grid_gap": null,
            "grid_row": null,
            "grid_template_areas": null,
            "grid_template_columns": null,
            "grid_template_rows": null,
            "height": null,
            "justify_content": null,
            "justify_items": null,
            "left": null,
            "margin": null,
            "max_height": null,
            "max_width": null,
            "min_height": null,
            "min_width": null,
            "object_fit": null,
            "object_position": null,
            "order": null,
            "overflow": null,
            "overflow_x": null,
            "overflow_y": null,
            "padding": null,
            "right": null,
            "top": null,
            "visibility": null,
            "width": null
          }
        },
        "ca046f5a5f244d6a8728c8360d22cbc0": {
          "model_module": "@jupyter-widgets/base",
          "model_name": "LayoutModel",
          "model_module_version": "1.2.0",
          "state": {
            "_model_module": "@jupyter-widgets/base",
            "_model_module_version": "1.2.0",
            "_model_name": "LayoutModel",
            "_view_count": null,
            "_view_module": "@jupyter-widgets/base",
            "_view_module_version": "1.2.0",
            "_view_name": "LayoutView",
            "align_content": null,
            "align_items": null,
            "align_self": null,
            "border": null,
            "bottom": null,
            "display": null,
            "flex": null,
            "flex_flow": null,
            "grid_area": null,
            "grid_auto_columns": null,
            "grid_auto_flow": null,
            "grid_auto_rows": null,
            "grid_column": null,
            "grid_gap": null,
            "grid_row": null,
            "grid_template_areas": null,
            "grid_template_columns": null,
            "grid_template_rows": null,
            "height": null,
            "justify_content": null,
            "justify_items": null,
            "left": null,
            "margin": null,
            "max_height": null,
            "max_width": null,
            "min_height": null,
            "min_width": null,
            "object_fit": null,
            "object_position": null,
            "order": null,
            "overflow": null,
            "overflow_x": null,
            "overflow_y": null,
            "padding": null,
            "right": null,
            "top": null,
            "visibility": null,
            "width": null
          }
        },
        "3a6c55a72cfe406cb10e46cf4833880f": {
          "model_module": "@jupyter-widgets/controls",
          "model_name": "DescriptionStyleModel",
          "model_module_version": "1.5.0",
          "state": {
            "_model_module": "@jupyter-widgets/controls",
            "_model_module_version": "1.5.0",
            "_model_name": "DescriptionStyleModel",
            "_view_count": null,
            "_view_module": "@jupyter-widgets/base",
            "_view_module_version": "1.2.0",
            "_view_name": "StyleView",
            "description_width": ""
          }
        },
        "9902d784923a4f49afe84891554e597f": {
          "model_module": "@jupyter-widgets/base",
          "model_name": "LayoutModel",
          "model_module_version": "1.2.0",
          "state": {
            "_model_module": "@jupyter-widgets/base",
            "_model_module_version": "1.2.0",
            "_model_name": "LayoutModel",
            "_view_count": null,
            "_view_module": "@jupyter-widgets/base",
            "_view_module_version": "1.2.0",
            "_view_name": "LayoutView",
            "align_content": null,
            "align_items": null,
            "align_self": null,
            "border": null,
            "bottom": null,
            "display": null,
            "flex": null,
            "flex_flow": null,
            "grid_area": null,
            "grid_auto_columns": null,
            "grid_auto_flow": null,
            "grid_auto_rows": null,
            "grid_column": null,
            "grid_gap": null,
            "grid_row": null,
            "grid_template_areas": null,
            "grid_template_columns": null,
            "grid_template_rows": null,
            "height": null,
            "justify_content": null,
            "justify_items": null,
            "left": null,
            "margin": null,
            "max_height": null,
            "max_width": null,
            "min_height": null,
            "min_width": null,
            "object_fit": null,
            "object_position": null,
            "order": null,
            "overflow": null,
            "overflow_x": null,
            "overflow_y": null,
            "padding": null,
            "right": null,
            "top": null,
            "visibility": null,
            "width": null
          }
        },
        "f485b157729f46e48706b2d06ed6a618": {
          "model_module": "@jupyter-widgets/controls",
          "model_name": "ProgressStyleModel",
          "model_module_version": "1.5.0",
          "state": {
            "_model_module": "@jupyter-widgets/controls",
            "_model_module_version": "1.5.0",
            "_model_name": "ProgressStyleModel",
            "_view_count": null,
            "_view_module": "@jupyter-widgets/base",
            "_view_module_version": "1.2.0",
            "_view_name": "StyleView",
            "bar_color": null,
            "description_width": ""
          }
        },
        "89f5d9f7f1924c14a6fb1cde6ea3b6e2": {
          "model_module": "@jupyter-widgets/base",
          "model_name": "LayoutModel",
          "model_module_version": "1.2.0",
          "state": {
            "_model_module": "@jupyter-widgets/base",
            "_model_module_version": "1.2.0",
            "_model_name": "LayoutModel",
            "_view_count": null,
            "_view_module": "@jupyter-widgets/base",
            "_view_module_version": "1.2.0",
            "_view_name": "LayoutView",
            "align_content": null,
            "align_items": null,
            "align_self": null,
            "border": null,
            "bottom": null,
            "display": null,
            "flex": null,
            "flex_flow": null,
            "grid_area": null,
            "grid_auto_columns": null,
            "grid_auto_flow": null,
            "grid_auto_rows": null,
            "grid_column": null,
            "grid_gap": null,
            "grid_row": null,
            "grid_template_areas": null,
            "grid_template_columns": null,
            "grid_template_rows": null,
            "height": null,
            "justify_content": null,
            "justify_items": null,
            "left": null,
            "margin": null,
            "max_height": null,
            "max_width": null,
            "min_height": null,
            "min_width": null,
            "object_fit": null,
            "object_position": null,
            "order": null,
            "overflow": null,
            "overflow_x": null,
            "overflow_y": null,
            "padding": null,
            "right": null,
            "top": null,
            "visibility": null,
            "width": null
          }
        },
        "1d39243139bd45aba01742efc168af62": {
          "model_module": "@jupyter-widgets/controls",
          "model_name": "DescriptionStyleModel",
          "model_module_version": "1.5.0",
          "state": {
            "_model_module": "@jupyter-widgets/controls",
            "_model_module_version": "1.5.0",
            "_model_name": "DescriptionStyleModel",
            "_view_count": null,
            "_view_module": "@jupyter-widgets/base",
            "_view_module_version": "1.2.0",
            "_view_name": "StyleView",
            "description_width": ""
          }
        },
        "e5f9740e3b5b4cbc86a1701c726c400e": {
          "model_module": "@jupyter-widgets/controls",
          "model_name": "HBoxModel",
          "model_module_version": "1.5.0",
          "state": {
            "_dom_classes": [],
            "_model_module": "@jupyter-widgets/controls",
            "_model_module_version": "1.5.0",
            "_model_name": "HBoxModel",
            "_view_count": null,
            "_view_module": "@jupyter-widgets/controls",
            "_view_module_version": "1.5.0",
            "_view_name": "HBoxView",
            "box_style": "",
            "children": [
              "IPY_MODEL_8169852ee838447fa9f1f26a92e632fd",
              "IPY_MODEL_588581bc0d72484d833061e9ae97ec4a",
              "IPY_MODEL_e30f0195f4aa4a938cf02c99e51501db"
            ],
            "layout": "IPY_MODEL_be953b6726a14fc3902a8699afcca124"
          }
        },
        "8169852ee838447fa9f1f26a92e632fd": {
          "model_module": "@jupyter-widgets/controls",
          "model_name": "HTMLModel",
          "model_module_version": "1.5.0",
          "state": {
            "_dom_classes": [],
            "_model_module": "@jupyter-widgets/controls",
            "_model_module_version": "1.5.0",
            "_model_name": "HTMLModel",
            "_view_count": null,
            "_view_module": "@jupyter-widgets/controls",
            "_view_module_version": "1.5.0",
            "_view_name": "HTMLView",
            "description": "",
            "description_tooltip": null,
            "layout": "IPY_MODEL_e55e0a465e3b4f9993fc43611a915e7f",
            "placeholder": "​",
            "style": "IPY_MODEL_ccfe0c2656ce43cd9b6d47601cf68128",
            "value": ""
          }
        },
        "588581bc0d72484d833061e9ae97ec4a": {
          "model_module": "@jupyter-widgets/controls",
          "model_name": "FloatProgressModel",
          "model_module_version": "1.5.0",
          "state": {
            "_dom_classes": [],
            "_model_module": "@jupyter-widgets/controls",
            "_model_module_version": "1.5.0",
            "_model_name": "FloatProgressModel",
            "_view_count": null,
            "_view_module": "@jupyter-widgets/controls",
            "_view_module_version": "1.5.0",
            "_view_name": "ProgressView",
            "bar_style": "success",
            "description": "",
            "description_tooltip": null,
            "layout": "IPY_MODEL_6714d1589c074c2bb50ff01f6bbe5ce2",
            "max": 4542,
            "min": 0,
            "orientation": "horizontal",
            "style": "IPY_MODEL_2f0451d4b6cd449794ab12c4119233b7",
            "value": 4542
          }
        },
        "e30f0195f4aa4a938cf02c99e51501db": {
          "model_module": "@jupyter-widgets/controls",
          "model_name": "HTMLModel",
          "model_module_version": "1.5.0",
          "state": {
            "_dom_classes": [],
            "_model_module": "@jupyter-widgets/controls",
            "_model_module_version": "1.5.0",
            "_model_name": "HTMLModel",
            "_view_count": null,
            "_view_module": "@jupyter-widgets/controls",
            "_view_module_version": "1.5.0",
            "_view_name": "HTMLView",
            "description": "",
            "description_tooltip": null,
            "layout": "IPY_MODEL_f954d9f62bef43a18c1fe244ada149cf",
            "placeholder": "​",
            "style": "IPY_MODEL_3aa1f2de1641490aaf54b6644edc2578",
            "value": " 5120/? [00:00&lt;00:00, 141697.59it/s]"
          }
        },
        "be953b6726a14fc3902a8699afcca124": {
          "model_module": "@jupyter-widgets/base",
          "model_name": "LayoutModel",
          "model_module_version": "1.2.0",
          "state": {
            "_model_module": "@jupyter-widgets/base",
            "_model_module_version": "1.2.0",
            "_model_name": "LayoutModel",
            "_view_count": null,
            "_view_module": "@jupyter-widgets/base",
            "_view_module_version": "1.2.0",
            "_view_name": "LayoutView",
            "align_content": null,
            "align_items": null,
            "align_self": null,
            "border": null,
            "bottom": null,
            "display": null,
            "flex": null,
            "flex_flow": null,
            "grid_area": null,
            "grid_auto_columns": null,
            "grid_auto_flow": null,
            "grid_auto_rows": null,
            "grid_column": null,
            "grid_gap": null,
            "grid_row": null,
            "grid_template_areas": null,
            "grid_template_columns": null,
            "grid_template_rows": null,
            "height": null,
            "justify_content": null,
            "justify_items": null,
            "left": null,
            "margin": null,
            "max_height": null,
            "max_width": null,
            "min_height": null,
            "min_width": null,
            "object_fit": null,
            "object_position": null,
            "order": null,
            "overflow": null,
            "overflow_x": null,
            "overflow_y": null,
            "padding": null,
            "right": null,
            "top": null,
            "visibility": null,
            "width": null
          }
        },
        "e55e0a465e3b4f9993fc43611a915e7f": {
          "model_module": "@jupyter-widgets/base",
          "model_name": "LayoutModel",
          "model_module_version": "1.2.0",
          "state": {
            "_model_module": "@jupyter-widgets/base",
            "_model_module_version": "1.2.0",
            "_model_name": "LayoutModel",
            "_view_count": null,
            "_view_module": "@jupyter-widgets/base",
            "_view_module_version": "1.2.0",
            "_view_name": "LayoutView",
            "align_content": null,
            "align_items": null,
            "align_self": null,
            "border": null,
            "bottom": null,
            "display": null,
            "flex": null,
            "flex_flow": null,
            "grid_area": null,
            "grid_auto_columns": null,
            "grid_auto_flow": null,
            "grid_auto_rows": null,
            "grid_column": null,
            "grid_gap": null,
            "grid_row": null,
            "grid_template_areas": null,
            "grid_template_columns": null,
            "grid_template_rows": null,
            "height": null,
            "justify_content": null,
            "justify_items": null,
            "left": null,
            "margin": null,
            "max_height": null,
            "max_width": null,
            "min_height": null,
            "min_width": null,
            "object_fit": null,
            "object_position": null,
            "order": null,
            "overflow": null,
            "overflow_x": null,
            "overflow_y": null,
            "padding": null,
            "right": null,
            "top": null,
            "visibility": null,
            "width": null
          }
        },
        "ccfe0c2656ce43cd9b6d47601cf68128": {
          "model_module": "@jupyter-widgets/controls",
          "model_name": "DescriptionStyleModel",
          "model_module_version": "1.5.0",
          "state": {
            "_model_module": "@jupyter-widgets/controls",
            "_model_module_version": "1.5.0",
            "_model_name": "DescriptionStyleModel",
            "_view_count": null,
            "_view_module": "@jupyter-widgets/base",
            "_view_module_version": "1.2.0",
            "_view_name": "StyleView",
            "description_width": ""
          }
        },
        "6714d1589c074c2bb50ff01f6bbe5ce2": {
          "model_module": "@jupyter-widgets/base",
          "model_name": "LayoutModel",
          "model_module_version": "1.2.0",
          "state": {
            "_model_module": "@jupyter-widgets/base",
            "_model_module_version": "1.2.0",
            "_model_name": "LayoutModel",
            "_view_count": null,
            "_view_module": "@jupyter-widgets/base",
            "_view_module_version": "1.2.0",
            "_view_name": "LayoutView",
            "align_content": null,
            "align_items": null,
            "align_self": null,
            "border": null,
            "bottom": null,
            "display": null,
            "flex": null,
            "flex_flow": null,
            "grid_area": null,
            "grid_auto_columns": null,
            "grid_auto_flow": null,
            "grid_auto_rows": null,
            "grid_column": null,
            "grid_gap": null,
            "grid_row": null,
            "grid_template_areas": null,
            "grid_template_columns": null,
            "grid_template_rows": null,
            "height": null,
            "justify_content": null,
            "justify_items": null,
            "left": null,
            "margin": null,
            "max_height": null,
            "max_width": null,
            "min_height": null,
            "min_width": null,
            "object_fit": null,
            "object_position": null,
            "order": null,
            "overflow": null,
            "overflow_x": null,
            "overflow_y": null,
            "padding": null,
            "right": null,
            "top": null,
            "visibility": null,
            "width": null
          }
        },
        "2f0451d4b6cd449794ab12c4119233b7": {
          "model_module": "@jupyter-widgets/controls",
          "model_name": "ProgressStyleModel",
          "model_module_version": "1.5.0",
          "state": {
            "_model_module": "@jupyter-widgets/controls",
            "_model_module_version": "1.5.0",
            "_model_name": "ProgressStyleModel",
            "_view_count": null,
            "_view_module": "@jupyter-widgets/base",
            "_view_module_version": "1.2.0",
            "_view_name": "StyleView",
            "bar_color": null,
            "description_width": ""
          }
        },
        "f954d9f62bef43a18c1fe244ada149cf": {
          "model_module": "@jupyter-widgets/base",
          "model_name": "LayoutModel",
          "model_module_version": "1.2.0",
          "state": {
            "_model_module": "@jupyter-widgets/base",
            "_model_module_version": "1.2.0",
            "_model_name": "LayoutModel",
            "_view_count": null,
            "_view_module": "@jupyter-widgets/base",
            "_view_module_version": "1.2.0",
            "_view_name": "LayoutView",
            "align_content": null,
            "align_items": null,
            "align_self": null,
            "border": null,
            "bottom": null,
            "display": null,
            "flex": null,
            "flex_flow": null,
            "grid_area": null,
            "grid_auto_columns": null,
            "grid_auto_flow": null,
            "grid_auto_rows": null,
            "grid_column": null,
            "grid_gap": null,
            "grid_row": null,
            "grid_template_areas": null,
            "grid_template_columns": null,
            "grid_template_rows": null,
            "height": null,
            "justify_content": null,
            "justify_items": null,
            "left": null,
            "margin": null,
            "max_height": null,
            "max_width": null,
            "min_height": null,
            "min_width": null,
            "object_fit": null,
            "object_position": null,
            "order": null,
            "overflow": null,
            "overflow_x": null,
            "overflow_y": null,
            "padding": null,
            "right": null,
            "top": null,
            "visibility": null,
            "width": null
          }
        },
        "3aa1f2de1641490aaf54b6644edc2578": {
          "model_module": "@jupyter-widgets/controls",
          "model_name": "DescriptionStyleModel",
          "model_module_version": "1.5.0",
          "state": {
            "_model_module": "@jupyter-widgets/controls",
            "_model_module_version": "1.5.0",
            "_model_name": "DescriptionStyleModel",
            "_view_count": null,
            "_view_module": "@jupyter-widgets/base",
            "_view_module_version": "1.2.0",
            "_view_name": "StyleView",
            "description_width": ""
          }
        }
      }
    }
  },
  "cells": [
    {
      "cell_type": "code",
      "metadata": {
        "id": "racial-lodge"
      },
      "source": [
        "import torch\n",
        "import torch.nn as nn\n",
        "import torchvision.transforms as transforms\n",
        "import torch.optim as optim\n",
        "import torchvision.datasets as datasets\n",
        "import imageio\n",
        "import numpy as np\n",
        "import matplotlib\n",
        "from torchvision.utils import make_grid, save_image\n",
        "from torch.utils.data import DataLoader\n",
        "from matplotlib import pyplot as plt\n",
        "from tqdm import tqdm"
      ],
      "id": "racial-lodge",
      "execution_count": null,
      "outputs": []
    },
    {
      "cell_type": "markdown",
      "metadata": {
        "id": "supported-pontiac"
      },
      "source": [
        "# Define learning parameters"
      ],
      "id": "supported-pontiac"
    },
    {
      "cell_type": "code",
      "metadata": {
        "id": "absolute-country"
      },
      "source": [
        "# learning parameters\n",
        "batch_size = 512\n",
        "epochs = 100\n",
        "sample_size = 64 # fixed sample size for generator\n",
        "nz = 128 # latent vector size\n",
        "k = 5 # number of steps to apply to the discriminator\n",
        "device = torch.device('cuda' if torch.cuda.is_available() else 'cpu')"
      ],
      "id": "absolute-country",
      "execution_count": null,
      "outputs": []
    },
    {
      "cell_type": "markdown",
      "metadata": {
        "id": "intellectual-tenant"
      },
      "source": [
        "# Prepare training dataset"
      ],
      "id": "intellectual-tenant"
    },
    {
      "cell_type": "code",
      "metadata": {
        "colab": {
          "base_uri": "https://localhost:8080/",
          "height": 471,
          "referenced_widgets": [
            "cc6c82c41987412190ddfde1f4a42bb6",
            "bc9facbc236e411a8ceb8496bca9d22a",
            "e6853e8f2687498bad2feb08d1a17daa",
            "594252777bc7414cb152c0e6789add8a",
            "03cc14581423454db59f96168d394daf",
            "431864133b2144f68e13177de6ec8ee7",
            "b0b397e15eae4fc4b63ebab2db3fc4ae",
            "8f67b60a4bfd45679c736985b03f3b93",
            "4dd552c851344f4d8c1e7ee004cbe000",
            "0050b1b591ef4027b971050193505d1a",
            "eb2f8d4fe54a42b8a79b6a3d7c570055",
            "f7ba9677c8bf44b897d1f08a2d9c61c1",
            "e8633dee21d04654847873c296a36fd3",
            "9e14fb28a2dd4c93b80affed7d5bc243",
            "058ec5c59f684b6eac5e7c8250806256",
            "0582bc7c755742d3aeb44821932dbf96",
            "8e898355e0f044d79e5e76fde8448ce9",
            "0c1fd53f1d054abaae4d711328a857c6",
            "4ebfda89d81946578653c91ea40f9ec3",
            "f1e9b5cc56a944af8f222db0e2aa7252",
            "fe6d8620815f4adf96d3f9809c5c227e",
            "2f969731bb014656aecd0df9c7484a60",
            "237780d3ccef43bfb676aa956d1407cb",
            "cb423da4cf5e4adf809d04e01bcecb29",
            "a7281842d64e4988b8917cec446c74ed",
            "ef39a97b438c4ae8a0b3d2ec8d4aedc3",
            "711e6ca3995a4194ae015b7592264d07",
            "ca046f5a5f244d6a8728c8360d22cbc0",
            "3a6c55a72cfe406cb10e46cf4833880f",
            "9902d784923a4f49afe84891554e597f",
            "f485b157729f46e48706b2d06ed6a618",
            "89f5d9f7f1924c14a6fb1cde6ea3b6e2",
            "1d39243139bd45aba01742efc168af62",
            "e5f9740e3b5b4cbc86a1701c726c400e",
            "8169852ee838447fa9f1f26a92e632fd",
            "588581bc0d72484d833061e9ae97ec4a",
            "e30f0195f4aa4a938cf02c99e51501db",
            "be953b6726a14fc3902a8699afcca124",
            "e55e0a465e3b4f9993fc43611a915e7f",
            "ccfe0c2656ce43cd9b6d47601cf68128",
            "6714d1589c074c2bb50ff01f6bbe5ce2",
            "2f0451d4b6cd449794ab12c4119233b7",
            "f954d9f62bef43a18c1fe244ada149cf",
            "3aa1f2de1641490aaf54b6644edc2578"
          ]
        },
        "id": "opposite-hundred",
        "outputId": "a624c725-e1e5-4cfa-d96c-703be1c7270c"
      },
      "source": [
        "\n",
        "transform = transforms.Compose([\n",
        "                                transforms.ToTensor(),\n",
        "                                transforms.Normalize((0.5,),(0.5,)),\n",
        "])\n",
        "to_pil_image = transforms.ToPILImage()\n",
        "\n",
        "# Make input, output folders\n",
        "!mkdir -p input\n",
        "!mkdir -p outputs\n",
        "\n",
        "# Load train data\n",
        "train_data = datasets.MNIST(\n",
        "    root='input/data',\n",
        "    train=True,\n",
        "    download=True,\n",
        "    transform=transform\n",
        ")\n",
        "train_loader = DataLoader(train_data, batch_size=batch_size, shuffle=True)"
      ],
      "id": "opposite-hundred",
      "execution_count": null,
      "outputs": [
        {
          "name": "stdout",
          "output_type": "stream",
          "text": [
            "Downloading http://yann.lecun.com/exdb/mnist/train-images-idx3-ubyte.gz\n",
            "Downloading http://yann.lecun.com/exdb/mnist/train-images-idx3-ubyte.gz to input/data/MNIST/raw/train-images-idx3-ubyte.gz\n"
          ]
        },
        {
          "data": {
            "application/vnd.jupyter.widget-view+json": {
              "model_id": "cc6c82c41987412190ddfde1f4a42bb6",
              "version_major": 2,
              "version_minor": 0
            },
            "text/plain": [
              "  0%|          | 0/9912422 [00:00<?, ?it/s]"
            ]
          },
          "metadata": {},
          "output_type": "display_data"
        },
        {
          "name": "stdout",
          "output_type": "stream",
          "text": [
            "Extracting input/data/MNIST/raw/train-images-idx3-ubyte.gz to input/data/MNIST/raw\n",
            "\n",
            "Downloading http://yann.lecun.com/exdb/mnist/train-labels-idx1-ubyte.gz\n",
            "Downloading http://yann.lecun.com/exdb/mnist/train-labels-idx1-ubyte.gz to input/data/MNIST/raw/train-labels-idx1-ubyte.gz\n"
          ]
        },
        {
          "data": {
            "application/vnd.jupyter.widget-view+json": {
              "model_id": "f7ba9677c8bf44b897d1f08a2d9c61c1",
              "version_major": 2,
              "version_minor": 0
            },
            "text/plain": [
              "  0%|          | 0/28881 [00:00<?, ?it/s]"
            ]
          },
          "metadata": {},
          "output_type": "display_data"
        },
        {
          "name": "stdout",
          "output_type": "stream",
          "text": [
            "Extracting input/data/MNIST/raw/train-labels-idx1-ubyte.gz to input/data/MNIST/raw\n",
            "\n",
            "Downloading http://yann.lecun.com/exdb/mnist/t10k-images-idx3-ubyte.gz\n",
            "Downloading http://yann.lecun.com/exdb/mnist/t10k-images-idx3-ubyte.gz to input/data/MNIST/raw/t10k-images-idx3-ubyte.gz\n"
          ]
        },
        {
          "data": {
            "application/vnd.jupyter.widget-view+json": {
              "model_id": "237780d3ccef43bfb676aa956d1407cb",
              "version_major": 2,
              "version_minor": 0
            },
            "text/plain": [
              "  0%|          | 0/1648877 [00:00<?, ?it/s]"
            ]
          },
          "metadata": {},
          "output_type": "display_data"
        },
        {
          "name": "stdout",
          "output_type": "stream",
          "text": [
            "Extracting input/data/MNIST/raw/t10k-images-idx3-ubyte.gz to input/data/MNIST/raw\n",
            "\n",
            "Downloading http://yann.lecun.com/exdb/mnist/t10k-labels-idx1-ubyte.gz\n",
            "Downloading http://yann.lecun.com/exdb/mnist/t10k-labels-idx1-ubyte.gz to input/data/MNIST/raw/t10k-labels-idx1-ubyte.gz\n"
          ]
        },
        {
          "data": {
            "application/vnd.jupyter.widget-view+json": {
              "model_id": "e5f9740e3b5b4cbc86a1701c726c400e",
              "version_major": 2,
              "version_minor": 0
            },
            "text/plain": [
              "  0%|          | 0/4542 [00:00<?, ?it/s]"
            ]
          },
          "metadata": {},
          "output_type": "display_data"
        },
        {
          "name": "stdout",
          "output_type": "stream",
          "text": [
            "Extracting input/data/MNIST/raw/t10k-labels-idx1-ubyte.gz to input/data/MNIST/raw\n",
            "\n"
          ]
        },
        {
          "name": "stderr",
          "output_type": "stream",
          "text": [
            "/usr/local/lib/python3.7/dist-packages/torchvision/datasets/mnist.py:498: UserWarning: The given NumPy array is not writeable, and PyTorch does not support non-writeable tensors. This means you can write to the underlying (supposedly non-writeable) NumPy array using the tensor. You may want to copy the array to protect its data or make it writeable before converting it to a tensor. This type of warning will be suppressed for the rest of this program. (Triggered internally at  /pytorch/torch/csrc/utils/tensor_numpy.cpp:180.)\n",
            "  return torch.from_numpy(parsed.astype(m[2], copy=False)).view(*s)\n"
          ]
        }
      ]
    },
    {
      "cell_type": "markdown",
      "metadata": {
        "id": "aboriginal-guitar"
      },
      "source": [
        "# Generator"
      ],
      "id": "aboriginal-guitar"
    },
    {
      "cell_type": "code",
      "metadata": {
        "id": "speaking-diary"
      },
      "source": [
        "class Generator(nn.Module):\n",
        "    def __init__(self, nz):\n",
        "        super(Generator, self).__init__()\n",
        "        self.nz = nz\n",
        "        self.main = nn.Sequential(\n",
        "            nn.Linear(self.nz, 256),\n",
        "            nn.LeakyReLU(0.2),\n",
        "            nn.Linear(256, 512),\n",
        "            nn.LeakyReLU(0.2),\n",
        "            nn.Linear(512, 1024),\n",
        "            nn.LeakyReLU(0.2),\n",
        "            nn.Linear(1024, 784),\n",
        "            nn.Tanh(),\n",
        "        )\n",
        "    def forward(self, x):\n",
        "        return self.main(x).view(-1, 1, 28, 28)"
      ],
      "id": "speaking-diary",
      "execution_count": null,
      "outputs": []
    },
    {
      "cell_type": "markdown",
      "metadata": {
        "id": "later-democracy"
      },
      "source": [
        "# Discriminator"
      ],
      "id": "later-democracy"
    },
    {
      "cell_type": "code",
      "metadata": {
        "id": "silent-zealand"
      },
      "source": [
        "class Discriminator(nn.Module):\n",
        "    def __init__(self):\n",
        "        super(Discriminator, self).__init__()\n",
        "        self.n_input = 784\n",
        "        self.main = nn.Sequential(\n",
        "            nn.Linear(self.n_input, 1024),\n",
        "            nn.LeakyReLU(0.2),\n",
        "            nn.Dropout(0.3),\n",
        "            nn.Linear(1024, 512),\n",
        "            nn.LeakyReLU(0.2),\n",
        "            nn.Dropout(0.3),\n",
        "            nn.Linear(512, 256),\n",
        "            nn.LeakyReLU(0.2),\n",
        "            nn.Dropout(0.3),\n",
        "            nn.Linear(256, 1),\n",
        "            nn.Sigmoid(),\n",
        "        )\n",
        "    def forward(self, x):\n",
        "        x = x.view(-1, 784)\n",
        "        return self.main(x)"
      ],
      "id": "silent-zealand",
      "execution_count": null,
      "outputs": []
    },
    {
      "cell_type": "code",
      "metadata": {
        "colab": {
          "base_uri": "https://localhost:8080/"
        },
        "id": "daily-palestine",
        "outputId": "2030bc71-bb08-4b0e-adc2-cb170524e24f"
      },
      "source": [
        "generator = Generator(nz).to(device)\n",
        "discriminator = Discriminator().to(device)\n",
        "print('##### GENERATOR #####')\n",
        "print(generator)\n",
        "print('######################')\n",
        "print('\\n##### DISCRIMINATOR #####')\n",
        "print(discriminator)\n",
        "print('######################')"
      ],
      "id": "daily-palestine",
      "execution_count": null,
      "outputs": [
        {
          "name": "stdout",
          "output_type": "stream",
          "text": [
            "##### GENERATOR #####\n",
            "Generator(\n",
            "  (main): Sequential(\n",
            "    (0): Linear(in_features=128, out_features=256, bias=True)\n",
            "    (1): LeakyReLU(negative_slope=0.2)\n",
            "    (2): Linear(in_features=256, out_features=512, bias=True)\n",
            "    (3): LeakyReLU(negative_slope=0.2)\n",
            "    (4): Linear(in_features=512, out_features=1024, bias=True)\n",
            "    (5): LeakyReLU(negative_slope=0.2)\n",
            "    (6): Linear(in_features=1024, out_features=784, bias=True)\n",
            "    (7): Tanh()\n",
            "  )\n",
            ")\n",
            "######################\n",
            "\n",
            "##### DISCRIMINATOR #####\n",
            "Discriminator(\n",
            "  (main): Sequential(\n",
            "    (0): Linear(in_features=784, out_features=1024, bias=True)\n",
            "    (1): LeakyReLU(negative_slope=0.2)\n",
            "    (2): Dropout(p=0.3, inplace=False)\n",
            "    (3): Linear(in_features=1024, out_features=512, bias=True)\n",
            "    (4): LeakyReLU(negative_slope=0.2)\n",
            "    (5): Dropout(p=0.3, inplace=False)\n",
            "    (6): Linear(in_features=512, out_features=256, bias=True)\n",
            "    (7): LeakyReLU(negative_slope=0.2)\n",
            "    (8): Dropout(p=0.3, inplace=False)\n",
            "    (9): Linear(in_features=256, out_features=1, bias=True)\n",
            "    (10): Sigmoid()\n",
            "  )\n",
            ")\n",
            "######################\n"
          ]
        }
      ]
    },
    {
      "cell_type": "markdown",
      "metadata": {
        "id": "moral-brooks"
      },
      "source": [
        "# Tools for training"
      ],
      "id": "moral-brooks"
    },
    {
      "cell_type": "code",
      "metadata": {
        "id": "moved-lawyer"
      },
      "source": [
        "# optimizers\n",
        "optim_g = optim.Adam(generator.parameters(), lr=0.0002)\n",
        "optim_d = optim.Adam(discriminator.parameters(), lr=0.0002)"
      ],
      "id": "moved-lawyer",
      "execution_count": null,
      "outputs": []
    },
    {
      "cell_type": "code",
      "metadata": {
        "id": "irish-allen"
      },
      "source": [
        "# loss function\n",
        "criterion = nn.BCELoss() # Binary Cross Entropy loss"
      ],
      "id": "irish-allen",
      "execution_count": null,
      "outputs": []
    },
    {
      "cell_type": "code",
      "metadata": {
        "id": "suited-fishing"
      },
      "source": [
        "losses_g = [] # to store generator loss after each epoch\n",
        "losses_d = [] # to store discriminator loss after each epoch\n",
        "images = [] # to store images generatd by the generator"
      ],
      "id": "suited-fishing",
      "execution_count": null,
      "outputs": []
    },
    {
      "cell_type": "code",
      "metadata": {
        "id": "sensitive-heater"
      },
      "source": [
        "# to create real labels (1s)\n",
        "def label_real(size):\n",
        "    data = torch.ones(size, 1)\n",
        "    # Trying out near-ones instead of absolute ones\n",
        "    # data = torch.sub(data, torch.tensor(0.1))\n",
        "    return data.to(device)\n",
        "# to create fake labels (0s)\n",
        "def label_fake(size):\n",
        "    data = torch.zeros(size, 1)\n",
        "    return data.to(device)\n"
      ],
      "id": "sensitive-heater",
      "execution_count": null,
      "outputs": []
    },
    {
      "cell_type": "code",
      "metadata": {
        "id": "australian-apollo"
      },
      "source": [
        "# function to create the noise vector\n",
        "def create_noise(sample_size, nz):\n",
        "    return torch.randn(sample_size, nz).to(device)"
      ],
      "id": "australian-apollo",
      "execution_count": null,
      "outputs": []
    },
    {
      "cell_type": "code",
      "metadata": {
        "id": "extraordinary-roller"
      },
      "source": [
        "# to save the images generated by the generator\n",
        "def save_generator_image(image, path):\n",
        "    save_image(image, path)"
      ],
      "id": "extraordinary-roller",
      "execution_count": null,
      "outputs": []
    },
    {
      "cell_type": "code",
      "metadata": {
        "id": "greatest-landing"
      },
      "source": [
        "# create the noise vector - fixed to track how GAN is trained.\n",
        "noise = create_noise(sample_size, nz)"
      ],
      "id": "greatest-landing",
      "execution_count": null,
      "outputs": []
    },
    {
      "cell_type": "markdown",
      "metadata": {
        "id": "rocky-theme"
      },
      "source": [
        "# Q. Write training loop"
      ],
      "id": "rocky-theme"
    },
    {
      "cell_type": "code",
      "metadata": {
        "colab": {
          "background_save": true,
          "base_uri": "https://localhost:8080/",
          "height": 1000
        },
        "id": "beginning-champagne",
        "outputId": "dd065826-7cf4-47f4-9c06-b963a47f8d5c"
      },
      "source": [
        "torch.manual_seed(7777)\n",
        "\n",
        "def generator_loss(output, true_label):\n",
        "    return criterion(output, true_label)\n",
        "    \n",
        "def discriminator_loss(output, true_label):\n",
        "    return criterion(output, true_label)\n",
        "    \n",
        "\n",
        "for epoch in range(epochs):\n",
        "    loss_g = 0.0\n",
        "    loss_d = 0.0\n",
        "    for bi, data in tqdm(enumerate(train_loader), total=int(len(train_data)/train_loader.batch_size)):\n",
        "        real_images, _ = data\n",
        "        real_images = real_images.to(device)\n",
        "\n",
        "        # Training the discriminator for 'k' steps\n",
        "        for i in range(k):\n",
        "           # Creating fake samples from generator to train the discriminator\n",
        "           fake_images = generator(create_noise(sample_size, nz)).detach()\n",
        "           fake_labels = label_fake(fake_images.shape[0])\n",
        "           \n",
        "           # Creating true labels for real images from dataset\n",
        "           real_labels = label_real(real_images.shape[0])\n",
        "           \n",
        "           optim_d.zero_grad()\n",
        "\n",
        "           # Generating first term of the loss from discriminator and backpropagating it\n",
        "           real_output = discriminator(real_images)\n",
        "           real_loss = discriminator_loss(real_output, real_labels)\n",
        "           \n",
        "           # Generating second term of the loss from discriminator and backpropagating it\n",
        "           fake_output = discriminator(fake_images)\n",
        "           fake_loss = discriminator_loss(fake_output, fake_labels)\n",
        "\n",
        "           real_loss.backward()\n",
        "           fake_loss.backward()\n",
        "\n",
        "           optim_d.step()\n",
        "\n",
        "           # Actual discriminator loss is the sum of both terms\n",
        "           loss_d += real_loss + fake_loss\n",
        "\n",
        "        # Training the generator for one step\n",
        "        fake_images = generator(create_noise(sample_size, nz))\n",
        "        real_labels = label_real(fake_images.shape[0])\n",
        "        fake_labels = label_fake(fake_images.shape[0])\n",
        "\n",
        "        optim_g.zero_grad()\n",
        "\n",
        "        # Passing fake images through discriminator\n",
        "        output = discriminator(fake_images)\n",
        "\n",
        "        # Generating the loss for the generator\n",
        "        gen_loss = generator_loss(output, real_labels)\n",
        "\n",
        "        gen_loss.backward()\n",
        "\n",
        "        optim_g.step()\n",
        "\n",
        "        loss_g += gen_loss\n",
        "    \n",
        "    \n",
        "    # create the final fake image for the epoch\n",
        "    generated_img = generator(noise).cpu().detach()\n",
        "    \n",
        "    # make the images as grid\n",
        "    generated_img = make_grid(generated_img)\n",
        "    \n",
        "    # visualize generated images\n",
        "    if (epoch + 1) % 5 == 0:\n",
        "        plt.imshow(generated_img.permute(1, 2, 0))\n",
        "        plt.title(f'epoch {epoch+1}')\n",
        "        plt.axis('off')\n",
        "        plt.show()\n",
        "    \n",
        "    # save the generated torch tensor models to disk\n",
        "    save_generator_image(generated_img, f\"outputs/gen_img{epoch+1}.png\")\n",
        "    images.append(generated_img)\n",
        "    epoch_loss_g = loss_g / bi # total generator loss for the epoch\n",
        "    epoch_loss_d = loss_d / bi # total discriminator loss for the epoch\n",
        "    losses_g.append(epoch_loss_g)\n",
        "    losses_d.append(epoch_loss_d)\n",
        "    \n",
        "    print(f\"Epoch {epoch+1} of {epochs}\")\n",
        "    print(f\"Generator loss: {epoch_loss_g:.8f}, Discriminator loss: {epoch_loss_d:.8f}\")"
      ],
      "id": "beginning-champagne",
      "execution_count": null,
      "outputs": [
        {
          "name": "stderr",
          "output_type": "stream",
          "text": [
            "118it [00:22,  5.31it/s]                         \n"
          ]
        },
        {
          "name": "stdout",
          "output_type": "stream",
          "text": [
            "Epoch 1 of 100\n",
            "Generator loss: 8.40595150, Discriminator loss: 0.32390624\n"
          ]
        },
        {
          "name": "stderr",
          "output_type": "stream",
          "text": [
            "118it [00:21,  5.43it/s]                         \n"
          ]
        },
        {
          "name": "stdout",
          "output_type": "stream",
          "text": [
            "Epoch 2 of 100\n",
            "Generator loss: 9.65698433, Discriminator loss: 0.29298136\n"
          ]
        },
        {
          "name": "stderr",
          "output_type": "stream",
          "text": [
            "118it [00:21,  5.42it/s]                         \n"
          ]
        },
        {
          "name": "stdout",
          "output_type": "stream",
          "text": [
            "Epoch 3 of 100\n",
            "Generator loss: 11.18385410, Discriminator loss: 0.27319220\n"
          ]
        },
        {
          "name": "stderr",
          "output_type": "stream",
          "text": [
            "118it [00:21,  5.40it/s]                         \n"
          ]
        },
        {
          "name": "stdout",
          "output_type": "stream",
          "text": [
            "Epoch 4 of 100\n",
            "Generator loss: 9.99715042, Discriminator loss: 0.11527161\n"
          ]
        },
        {
          "name": "stderr",
          "output_type": "stream",
          "text": [
            "118it [00:21,  5.46it/s]                         \n",
            "Clipping input data to the valid range for imshow with RGB data ([0..1] for floats or [0..255] for integers).\n"
          ]
        },
        {
          "data": {
            "image/png": "[encoded data removed]",
            "text/plain": [
              "<Figure size 432x288 with 1 Axes>"
            ]
          },
          "metadata": {},
          "output_type": "display_data"
        },
        {
          "name": "stdout",
          "output_type": "stream",
          "text": [
            "Epoch 5 of 100\n",
            "Generator loss: 10.09953499, Discriminator loss: 0.13151929\n"
          ]
        },
        {
          "name": "stderr",
          "output_type": "stream",
          "text": [
            "118it [00:21,  5.44it/s]                         \n"
          ]
        },
        {
          "name": "stdout",
          "output_type": "stream",
          "text": [
            "Epoch 6 of 100\n",
            "Generator loss: 11.29802227, Discriminator loss: 0.07596125\n"
          ]
        },
        {
          "name": "stderr",
          "output_type": "stream",
          "text": [
            "118it [00:21,  5.42it/s]                         \n"
          ]
        },
        {
          "name": "stdout",
          "output_type": "stream",
          "text": [
            "Epoch 7 of 100\n",
            "Generator loss: 11.10197544, Discriminator loss: 0.03774739\n"
          ]
        },
        {
          "name": "stderr",
          "output_type": "stream",
          "text": [
            "118it [00:21,  5.46it/s]                         \n"
          ]
        },
        {
          "name": "stdout",
          "output_type": "stream",
          "text": [
            "Epoch 8 of 100\n",
            "Generator loss: 10.41817093, Discriminator loss: 0.03702319\n"
          ]
        },
        {
          "name": "stderr",
          "output_type": "stream",
          "text": [
            "118it [00:21,  5.47it/s]                         \n"
          ]
        },
        {
          "name": "stdout",
          "output_type": "stream",
          "text": [
            "Epoch 9 of 100\n",
            "Generator loss: 11.86918926, Discriminator loss: 0.04518745\n"
          ]
        },
        {
          "name": "stderr",
          "output_type": "stream",
          "text": [
            "118it [00:21,  5.40it/s]                         \n",
            "Clipping input data to the valid range for imshow with RGB data ([0..1] for floats or [0..255] for integers).\n"
          ]
        },
        {
          "data": {
            "image/png": "[encoded data removed]",
            "text/plain": [
              "<Figure size 432x288 with 1 Axes>"
            ]
          },
          "metadata": {},
          "output_type": "display_data"
        },
        {
          "name": "stdout",
          "output_type": "stream",
          "text": [
            "Epoch 10 of 100\n",
            "Generator loss: 11.08187485, Discriminator loss: 0.07872832\n"
          ]
        },
        {
          "name": "stderr",
          "output_type": "stream",
          "text": [
            "118it [00:21,  5.42it/s]                         \n"
          ]
        },
        {
          "name": "stdout",
          "output_type": "stream",
          "text": [
            "Epoch 11 of 100\n",
            "Generator loss: 11.42706203, Discriminator loss: 0.06035592\n"
          ]
        },
        {
          "name": "stderr",
          "output_type": "stream",
          "text": [
            "118it [00:21,  5.46it/s]                         \n"
          ]
        },
        {
          "name": "stdout",
          "output_type": "stream",
          "text": [
            "Epoch 12 of 100\n",
            "Generator loss: 11.49709797, Discriminator loss: 0.12765402\n"
          ]
        },
        {
          "name": "stderr",
          "output_type": "stream",
          "text": [
            "118it [00:21,  5.45it/s]                         \n"
          ]
        },
        {
          "name": "stdout",
          "output_type": "stream",
          "text": [
            "Epoch 13 of 100\n",
            "Generator loss: 10.31739998, Discriminator loss: 0.09776708\n"
          ]
        },
        {
          "name": "stderr",
          "output_type": "stream",
          "text": [
            "118it [00:21,  5.47it/s]                         \n"
          ]
        },
        {
          "name": "stdout",
          "output_type": "stream",
          "text": [
            "Epoch 14 of 100\n",
            "Generator loss: 9.86647606, Discriminator loss: 0.13008665\n"
          ]
        },
        {
          "name": "stderr",
          "output_type": "stream",
          "text": [
            "118it [00:21,  5.41it/s]                         \n",
            "Clipping input data to the valid range for imshow with RGB data ([0..1] for floats or [0..255] for integers).\n"
          ]
        },
        {
          "data": {
            "image/png": "[encoded data removed]",
            "text/plain": [
              "<Figure size 432x288 with 1 Axes>"
            ]
          },
          "metadata": {},
          "output_type": "display_data"
        },
        {
          "name": "stdout",
          "output_type": "stream",
          "text": [
            "Epoch 15 of 100\n",
            "Generator loss: 8.79784012, Discriminator loss: 0.18335909\n"
          ]
        },
        {
          "name": "stderr",
          "output_type": "stream",
          "text": [
            "118it [00:21,  5.42it/s]                         \n"
          ]
        },
        {
          "name": "stdout",
          "output_type": "stream",
          "text": [
            "Epoch 16 of 100\n",
            "Generator loss: 8.50944424, Discriminator loss: 0.19159840\n"
          ]
        },
        {
          "name": "stderr",
          "output_type": "stream",
          "text": [
            "118it [00:21,  5.41it/s]                         \n"
          ]
        },
        {
          "name": "stdout",
          "output_type": "stream",
          "text": [
            "Epoch 17 of 100\n",
            "Generator loss: 7.28819132, Discriminator loss: 0.31981599\n"
          ]
        },
        {
          "name": "stderr",
          "output_type": "stream",
          "text": [
            "118it [00:22,  5.35it/s]                         \n"
          ]
        },
        {
          "name": "stdout",
          "output_type": "stream",
          "text": [
            "Epoch 18 of 100\n",
            "Generator loss: 7.39309025, Discriminator loss: 0.24120046\n"
          ]
        },
        {
          "name": "stderr",
          "output_type": "stream",
          "text": [
            "118it [00:22,  5.35it/s]                         \n"
          ]
        },
        {
          "name": "stdout",
          "output_type": "stream",
          "text": [
            "Epoch 19 of 100\n",
            "Generator loss: 7.31712532, Discriminator loss: 0.24091054\n"
          ]
        },
        {
          "name": "stderr",
          "output_type": "stream",
          "text": [
            "118it [00:21,  5.40it/s]                         \n",
            "Clipping input data to the valid range for imshow with RGB data ([0..1] for floats or [0..255] for integers).\n"
          ]
        },
        {
          "data": {
            "image/png": "[encoded data removed]",
            "text/plain": [
              "<Figure size 432x288 with 1 Axes>"
            ]
          },
          "metadata": {},
          "output_type": "display_data"
        },
        {
          "name": "stdout",
          "output_type": "stream",
          "text": [
            "Epoch 20 of 100\n",
            "Generator loss: 7.01685333, Discriminator loss: 0.31317526\n"
          ]
        },
        {
          "name": "stderr",
          "output_type": "stream",
          "text": [
            "118it [00:22,  5.32it/s]                         \n"
          ]
        },
        {
          "name": "stdout",
          "output_type": "stream",
          "text": [
            "Epoch 21 of 100\n",
            "Generator loss: 6.38185072, Discriminator loss: 0.32940757\n"
          ]
        },
        {
          "name": "stderr",
          "output_type": "stream",
          "text": [
            "118it [00:22,  5.34it/s]                         \n"
          ]
        },
        {
          "name": "stdout",
          "output_type": "stream",
          "text": [
            "Epoch 22 of 100\n",
            "Generator loss: 6.33239603, Discriminator loss: 0.34040537\n"
          ]
        },
        {
          "name": "stderr",
          "output_type": "stream",
          "text": [
            "118it [00:21,  5.37it/s]                         \n"
          ]
        },
        {
          "name": "stdout",
          "output_type": "stream",
          "text": [
            "Epoch 23 of 100\n",
            "Generator loss: 5.93157196, Discriminator loss: 0.41130993\n"
          ]
        },
        {
          "name": "stderr",
          "output_type": "stream",
          "text": [
            "118it [00:22,  5.34it/s]                         \n"
          ]
        },
        {
          "name": "stdout",
          "output_type": "stream",
          "text": [
            "Epoch 24 of 100\n",
            "Generator loss: 5.57020187, Discriminator loss: 0.49932998\n"
          ]
        },
        {
          "name": "stderr",
          "output_type": "stream",
          "text": [
            "118it [00:21,  5.38it/s]                         \n",
            "Clipping input data to the valid range for imshow with RGB data ([0..1] for floats or [0..255] for integers).\n"
          ]
        },
        {
          "data": {
            "image/png": "[encoded data removed]",
            "text/plain": [
              "<Figure size 432x288 with 1 Axes>"
            ]
          },
          "metadata": {},
          "output_type": "display_data"
        },
        {
          "name": "stdout",
          "output_type": "stream",
          "text": [
            "Epoch 25 of 100\n",
            "Generator loss: 5.28031540, Discriminator loss: 0.56128556\n"
          ]
        },
        {
          "name": "stderr",
          "output_type": "stream",
          "text": [
            "118it [00:21,  5.38it/s]                         \n"
          ]
        },
        {
          "name": "stdout",
          "output_type": "stream",
          "text": [
            "Epoch 26 of 100\n",
            "Generator loss: 4.94588518, Discriminator loss: 0.68433642\n"
          ]
        },
        {
          "name": "stderr",
          "output_type": "stream",
          "text": [
            "118it [00:21,  5.39it/s]                         \n"
          ]
        },
        {
          "name": "stdout",
          "output_type": "stream",
          "text": [
            "Epoch 27 of 100\n",
            "Generator loss: 4.78311157, Discriminator loss: 0.67761350\n"
          ]
        },
        {
          "name": "stderr",
          "output_type": "stream",
          "text": [
            "118it [00:21,  5.42it/s]                         \n"
          ]
        },
        {
          "name": "stdout",
          "output_type": "stream",
          "text": [
            "Epoch 28 of 100\n",
            "Generator loss: 4.52357578, Discriminator loss: 0.74979901\n"
          ]
        },
        {
          "name": "stderr",
          "output_type": "stream",
          "text": [
            "118it [00:21,  5.38it/s]                         \n"
          ]
        },
        {
          "name": "stdout",
          "output_type": "stream",
          "text": [
            "Epoch 29 of 100\n",
            "Generator loss: 4.54418516, Discriminator loss: 0.77190149\n"
          ]
        },
        {
          "name": "stderr",
          "output_type": "stream",
          "text": [
            "118it [00:21,  5.37it/s]                         \n",
            "Clipping input data to the valid range for imshow with RGB data ([0..1] for floats or [0..255] for integers).\n"
          ]
        },
        {
          "data": {
            "image/png": "[encoded data removed]",
            "text/plain": [
              "<Figure size 432x288 with 1 Axes>"
            ]
          },
          "metadata": {},
          "output_type": "display_data"
        },
        {
          "name": "stdout",
          "output_type": "stream",
          "text": [
            "Epoch 30 of 100\n",
            "Generator loss: 4.45470238, Discriminator loss: 0.80185294\n"
          ]
        },
        {
          "name": "stderr",
          "output_type": "stream",
          "text": [
            "118it [00:22,  5.36it/s]                         \n"
          ]
        },
        {
          "name": "stdout",
          "output_type": "stream",
          "text": [
            "Epoch 31 of 100\n",
            "Generator loss: 4.29877615, Discriminator loss: 0.80540222\n"
          ]
        },
        {
          "name": "stderr",
          "output_type": "stream",
          "text": [
            "118it [00:21,  5.37it/s]                         \n"
          ]
        },
        {
          "name": "stdout",
          "output_type": "stream",
          "text": [
            "Epoch 32 of 100\n",
            "Generator loss: 4.16591787, Discriminator loss: 0.90053397\n"
          ]
        },
        {
          "name": "stderr",
          "output_type": "stream",
          "text": [
            "118it [00:21,  5.38it/s]                         \n"
          ]
        },
        {
          "name": "stdout",
          "output_type": "stream",
          "text": [
            "Epoch 33 of 100\n",
            "Generator loss: 4.05431652, Discriminator loss: 0.96817857\n"
          ]
        },
        {
          "name": "stderr",
          "output_type": "stream",
          "text": [
            "118it [00:21,  5.37it/s]                         \n"
          ]
        },
        {
          "name": "stdout",
          "output_type": "stream",
          "text": [
            "Epoch 34 of 100\n",
            "Generator loss: 3.80258775, Discriminator loss: 1.03089535\n"
          ]
        },
        {
          "name": "stderr",
          "output_type": "stream",
          "text": [
            "118it [00:22,  5.36it/s]                         \n",
            "Clipping input data to the valid range for imshow with RGB data ([0..1] for floats or [0..255] for integers).\n"
          ]
        },
        {
          "data": {
            "image/png": "[encoded data removed]",
            "text/plain": [
              "<Figure size 432x288 with 1 Axes>"
            ]
          },
          "metadata": {},
          "output_type": "display_data"
        },
        {
          "name": "stdout",
          "output_type": "stream",
          "text": [
            "Epoch 35 of 100\n",
            "Generator loss: 3.80600548, Discriminator loss: 1.02638984\n"
          ]
        },
        {
          "name": "stderr",
          "output_type": "stream",
          "text": [
            "118it [00:22,  5.35it/s]                         \n"
          ]
        },
        {
          "name": "stdout",
          "output_type": "stream",
          "text": [
            "Epoch 36 of 100\n",
            "Generator loss: 3.77018666, Discriminator loss: 1.06235671\n"
          ]
        },
        {
          "name": "stderr",
          "output_type": "stream",
          "text": [
            "118it [00:21,  5.39it/s]                         \n"
          ]
        },
        {
          "name": "stdout",
          "output_type": "stream",
          "text": [
            "Epoch 37 of 100\n",
            "Generator loss: 3.55836368, Discriminator loss: 1.15813911\n"
          ]
        },
        {
          "name": "stderr",
          "output_type": "stream",
          "text": [
            "118it [00:21,  5.42it/s]                         \n"
          ]
        },
        {
          "name": "stdout",
          "output_type": "stream",
          "text": [
            "Epoch 38 of 100\n",
            "Generator loss: 3.46387577, Discriminator loss: 1.23016834\n"
          ]
        },
        {
          "name": "stderr",
          "output_type": "stream",
          "text": [
            "118it [00:21,  5.40it/s]                         \n"
          ]
        },
        {
          "name": "stdout",
          "output_type": "stream",
          "text": [
            "Epoch 39 of 100\n",
            "Generator loss: 3.38501978, Discriminator loss: 1.23824298\n"
          ]
        },
        {
          "name": "stderr",
          "output_type": "stream",
          "text": [
            "118it [00:22,  5.34it/s]                         \n",
            "Clipping input data to the valid range for imshow with RGB data ([0..1] for floats or [0..255] for integers).\n"
          ]
        },
        {
          "data": {
            "image/png": "[encoded data removed]",
            "text/plain": [
              "<Figure size 432x288 with 1 Axes>"
            ]
          },
          "metadata": {},
          "output_type": "display_data"
        },
        {
          "name": "stdout",
          "output_type": "stream",
          "text": [
            "Epoch 40 of 100\n",
            "Generator loss: 3.34428120, Discriminator loss: 1.26326656\n"
          ]
        },
        {
          "name": "stderr",
          "output_type": "stream",
          "text": [
            "118it [00:22,  5.31it/s]                         \n"
          ]
        },
        {
          "name": "stdout",
          "output_type": "stream",
          "text": [
            "Epoch 41 of 100\n",
            "Generator loss: 3.34396362, Discriminator loss: 1.27369022\n"
          ]
        },
        {
          "name": "stderr",
          "output_type": "stream",
          "text": [
            "118it [00:22,  5.31it/s]                         \n"
          ]
        },
        {
          "name": "stdout",
          "output_type": "stream",
          "text": [
            "Epoch 42 of 100\n",
            "Generator loss: 3.27820253, Discriminator loss: 1.27754009\n"
          ]
        },
        {
          "name": "stderr",
          "output_type": "stream",
          "text": [
            "118it [00:22,  5.34it/s]                         \n"
          ]
        },
        {
          "name": "stdout",
          "output_type": "stream",
          "text": [
            "Epoch 43 of 100\n",
            "Generator loss: 3.28958344, Discriminator loss: 1.30453992\n"
          ]
        },
        {
          "name": "stderr",
          "output_type": "stream",
          "text": [
            "118it [00:22,  5.33it/s]                         \n"
          ]
        },
        {
          "name": "stdout",
          "output_type": "stream",
          "text": [
            "Epoch 44 of 100\n",
            "Generator loss: 3.24962258, Discriminator loss: 1.32740879\n"
          ]
        },
        {
          "name": "stderr",
          "output_type": "stream",
          "text": [
            "118it [00:21,  5.38it/s]                         \n",
            "Clipping input data to the valid range for imshow with RGB data ([0..1] for floats or [0..255] for integers).\n"
          ]
        },
        {
          "data": {
            "image/png": "[encoded data removed]",
            "text/plain": [
              "<Figure size 432x288 with 1 Axes>"
            ]
          },
          "metadata": {},
          "output_type": "display_data"
        },
        {
          "name": "stdout",
          "output_type": "stream",
          "text": [
            "Epoch 45 of 100\n",
            "Generator loss: 3.16755772, Discriminator loss: 1.37758899\n"
          ]
        },
        {
          "name": "stderr",
          "output_type": "stream",
          "text": [
            "118it [00:22,  5.36it/s]                         \n"
          ]
        },
        {
          "name": "stdout",
          "output_type": "stream",
          "text": [
            "Epoch 46 of 100\n",
            "Generator loss: 3.15898609, Discriminator loss: 1.37283468\n"
          ]
        },
        {
          "name": "stderr",
          "output_type": "stream",
          "text": [
            "118it [00:22,  5.35it/s]                         \n"
          ]
        },
        {
          "name": "stdout",
          "output_type": "stream",
          "text": [
            "Epoch 47 of 100\n",
            "Generator loss: 3.02750874, Discriminator loss: 1.43329942\n"
          ]
        },
        {
          "name": "stderr",
          "output_type": "stream",
          "text": [
            "118it [00:22,  5.29it/s]                         \n"
          ]
        },
        {
          "name": "stdout",
          "output_type": "stream",
          "text": [
            "Epoch 48 of 100\n",
            "Generator loss: 2.98159742, Discriminator loss: 1.46445656\n"
          ]
        },
        {
          "name": "stderr",
          "output_type": "stream",
          "text": [
            "118it [00:22,  5.30it/s]                         \n"
          ]
        },
        {
          "name": "stdout",
          "output_type": "stream",
          "text": [
            "Epoch 49 of 100\n",
            "Generator loss: 2.94224977, Discriminator loss: 1.48616815\n"
          ]
        },
        {
          "name": "stderr",
          "output_type": "stream",
          "text": [
            "118it [00:22,  5.29it/s]                         \n",
            "Clipping input data to the valid range for imshow with RGB data ([0..1] for floats or [0..255] for integers).\n"
          ]
        },
        {
          "data": {
            "image/png": "[encoded data removed]",
            "text/plain": [
              "<Figure size 432x288 with 1 Axes>"
            ]
          },
          "metadata": {},
          "output_type": "display_data"
        },
        {
          "name": "stdout",
          "output_type": "stream",
          "text": [
            "Epoch 50 of 100\n",
            "Generator loss: 2.95017982, Discriminator loss: 1.48435605\n"
          ]
        },
        {
          "name": "stderr",
          "output_type": "stream",
          "text": [
            "118it [00:22,  5.31it/s]                         \n"
          ]
        },
        {
          "name": "stdout",
          "output_type": "stream",
          "text": [
            "Epoch 51 of 100\n",
            "Generator loss: 2.89723825, Discriminator loss: 1.52999616\n"
          ]
        },
        {
          "name": "stderr",
          "output_type": "stream",
          "text": [
            "118it [00:22,  5.35it/s]                         \n"
          ]
        },
        {
          "name": "stdout",
          "output_type": "stream",
          "text": [
            "Epoch 52 of 100\n",
            "Generator loss: 2.88299799, Discriminator loss: 1.52853465\n"
          ]
        },
        {
          "name": "stderr",
          "output_type": "stream",
          "text": [
            "118it [00:22,  5.27it/s]                         \n"
          ]
        },
        {
          "name": "stdout",
          "output_type": "stream",
          "text": [
            "Epoch 53 of 100\n",
            "Generator loss: 3.00641870, Discriminator loss: 1.49911642\n"
          ]
        },
        {
          "name": "stderr",
          "output_type": "stream",
          "text": [
            "118it [00:22,  5.35it/s]                         \n"
          ]
        },
        {
          "name": "stdout",
          "output_type": "stream",
          "text": [
            "Epoch 54 of 100\n",
            "Generator loss: 2.95238447, Discriminator loss: 1.51245689\n"
          ]
        },
        {
          "name": "stderr",
          "output_type": "stream",
          "text": [
            "118it [00:22,  5.29it/s]                         \n",
            "Clipping input data to the valid range for imshow with RGB data ([0..1] for floats or [0..255] for integers).\n"
          ]
        },
        {
          "data": {
            "image/png": "[encoded data removed]",
            "text/plain": [
              "<Figure size 432x288 with 1 Axes>"
            ]
          },
          "metadata": {},
          "output_type": "display_data"
        },
        {
          "name": "stdout",
          "output_type": "stream",
          "text": [
            "Epoch 55 of 100\n",
            "Generator loss: 2.93392324, Discriminator loss: 1.52018297\n"
          ]
        },
        {
          "name": "stderr",
          "output_type": "stream",
          "text": [
            "118it [00:22,  5.29it/s]                         \n"
          ]
        },
        {
          "name": "stdout",
          "output_type": "stream",
          "text": [
            "Epoch 56 of 100\n",
            "Generator loss: 2.85258174, Discriminator loss: 1.55305636\n"
          ]
        },
        {
          "name": "stderr",
          "output_type": "stream",
          "text": [
            "118it [00:22,  5.28it/s]                         \n"
          ]
        },
        {
          "name": "stdout",
          "output_type": "stream",
          "text": [
            "Epoch 57 of 100\n",
            "Generator loss: 2.84521008, Discriminator loss: 1.57693028\n"
          ]
        },
        {
          "name": "stderr",
          "output_type": "stream",
          "text": [
            "118it [00:22,  5.35it/s]                         \n"
          ]
        },
        {
          "name": "stdout",
          "output_type": "stream",
          "text": [
            "Epoch 58 of 100\n",
            "Generator loss: 2.87145185, Discriminator loss: 1.60030115\n"
          ]
        },
        {
          "name": "stderr",
          "output_type": "stream",
          "text": [
            "118it [00:22,  5.25it/s]                         \n"
          ]
        },
        {
          "name": "stdout",
          "output_type": "stream",
          "text": [
            "Epoch 59 of 100\n",
            "Generator loss: 2.90174341, Discriminator loss: 1.56082392\n"
          ]
        },
        {
          "name": "stderr",
          "output_type": "stream",
          "text": [
            "118it [00:22,  5.29it/s]                         \n",
            "Clipping input data to the valid range for imshow with RGB data ([0..1] for floats or [0..255] for integers).\n"
          ]
        },
        {
          "data": {
            "image/png": "[encoded data removed]",
            "text/plain": [
              "<Figure size 432x288 with 1 Axes>"
            ]
          },
          "metadata": {},
          "output_type": "display_data"
        },
        {
          "name": "stdout",
          "output_type": "stream",
          "text": [
            "Epoch 60 of 100\n",
            "Generator loss: 2.84819031, Discriminator loss: 1.59910810\n"
          ]
        },
        {
          "name": "stderr",
          "output_type": "stream",
          "text": [
            "118it [00:22,  5.30it/s]                         \n"
          ]
        },
        {
          "name": "stdout",
          "output_type": "stream",
          "text": [
            "Epoch 61 of 100\n",
            "Generator loss: 2.81944227, Discriminator loss: 1.60719645\n"
          ]
        },
        {
          "name": "stderr",
          "output_type": "stream",
          "text": [
            "118it [00:22,  5.27it/s]                         \n"
          ]
        },
        {
          "name": "stdout",
          "output_type": "stream",
          "text": [
            "Epoch 62 of 100\n",
            "Generator loss: 2.85558724, Discriminator loss: 1.60340285\n"
          ]
        },
        {
          "name": "stderr",
          "output_type": "stream",
          "text": [
            "118it [00:22,  5.30it/s]                         \n"
          ]
        },
        {
          "name": "stdout",
          "output_type": "stream",
          "text": [
            "Epoch 63 of 100\n",
            "Generator loss: 2.82250905, Discriminator loss: 1.62164760\n"
          ]
        },
        {
          "name": "stderr",
          "output_type": "stream",
          "text": [
            "118it [00:22,  5.28it/s]                         \n"
          ]
        },
        {
          "name": "stdout",
          "output_type": "stream",
          "text": [
            "Epoch 64 of 100\n",
            "Generator loss: 2.86434507, Discriminator loss: 1.61899447\n"
          ]
        },
        {
          "name": "stderr",
          "output_type": "stream",
          "text": [
            "118it [00:21,  5.45it/s]                         \n",
            "Clipping input data to the valid range for imshow with RGB data ([0..1] for floats or [0..255] for integers).\n"
          ]
        },
        {
          "data": {
            "image/png": "[encoded data removed]",
            "text/plain": [
              "<Figure size 432x288 with 1 Axes>"
            ]
          },
          "metadata": {},
          "output_type": "display_data"
        },
        {
          "name": "stdout",
          "output_type": "stream",
          "text": [
            "Epoch 65 of 100\n",
            "Generator loss: 2.83556676, Discriminator loss: 1.61575174\n"
          ]
        },
        {
          "name": "stderr",
          "output_type": "stream",
          "text": [
            "118it [00:21,  5.42it/s]                         \n"
          ]
        },
        {
          "name": "stdout",
          "output_type": "stream",
          "text": [
            "Epoch 66 of 100\n",
            "Generator loss: 2.83530354, Discriminator loss: 1.60365653\n"
          ]
        },
        {
          "name": "stderr",
          "output_type": "stream",
          "text": [
            "118it [00:22,  5.24it/s]                         \n"
          ]
        },
        {
          "name": "stdout",
          "output_type": "stream",
          "text": [
            "Epoch 67 of 100\n",
            "Generator loss: 2.83802533, Discriminator loss: 1.60578167\n"
          ]
        },
        {
          "name": "stderr",
          "output_type": "stream",
          "text": [
            "118it [00:22,  5.21it/s]                         \n"
          ]
        },
        {
          "name": "stdout",
          "output_type": "stream",
          "text": [
            "Epoch 68 of 100\n",
            "Generator loss: 2.79605198, Discriminator loss: 1.62080944\n"
          ]
        },
        {
          "name": "stderr",
          "output_type": "stream",
          "text": [
            "118it [00:22,  5.27it/s]                         \n"
          ]
        },
        {
          "name": "stdout",
          "output_type": "stream",
          "text": [
            "Epoch 69 of 100\n",
            "Generator loss: 2.81448793, Discriminator loss: 1.62303483\n"
          ]
        },
        {
          "name": "stderr",
          "output_type": "stream",
          "text": [
            "118it [00:22,  5.25it/s]                         \n",
            "Clipping input data to the valid range for imshow with RGB data ([0..1] for floats or [0..255] for integers).\n"
          ]
        },
        {
          "data": {
            "image/png": "[encoded data removed]",
            "text/plain": [
              "<Figure size 432x288 with 1 Axes>"
            ]
          },
          "metadata": {},
          "output_type": "display_data"
        },
        {
          "name": "stdout",
          "output_type": "stream",
          "text": [
            "Epoch 70 of 100\n",
            "Generator loss: 2.81977081, Discriminator loss: 1.63297284\n"
          ]
        },
        {
          "name": "stderr",
          "output_type": "stream",
          "text": [
            "118it [00:22,  5.29it/s]                         \n"
          ]
        },
        {
          "name": "stdout",
          "output_type": "stream",
          "text": [
            "Epoch 71 of 100\n",
            "Generator loss: 2.72877145, Discriminator loss: 1.68299317\n"
          ]
        },
        {
          "name": "stderr",
          "output_type": "stream",
          "text": [
            "118it [00:22,  5.25it/s]                         \n"
          ]
        },
        {
          "name": "stdout",
          "output_type": "stream",
          "text": [
            "Epoch 72 of 100\n",
            "Generator loss: 2.73116207, Discriminator loss: 1.67658031\n"
          ]
        },
        {
          "name": "stderr",
          "output_type": "stream",
          "text": [
            "118it [00:21,  5.51it/s]                         \n"
          ]
        },
        {
          "name": "stdout",
          "output_type": "stream",
          "text": [
            "Epoch 73 of 100\n",
            "Generator loss: 2.73771214, Discriminator loss: 1.67696178\n"
          ]
        },
        {
          "name": "stderr",
          "output_type": "stream",
          "text": [
            "118it [00:21,  5.55it/s]                         \n"
          ]
        },
        {
          "name": "stdout",
          "output_type": "stream",
          "text": [
            "Epoch 74 of 100\n",
            "Generator loss: 2.75826979, Discriminator loss: 1.64185357\n"
          ]
        },
        {
          "name": "stderr",
          "output_type": "stream",
          "text": [
            "118it [00:21,  5.45it/s]                         \n",
            "Clipping input data to the valid range for imshow with RGB data ([0..1] for floats or [0..255] for integers).\n"
          ]
        },
        {
          "data": {
            "image/png": "[encoded data removed]",
            "text/plain": [
              "<Figure size 432x288 with 1 Axes>"
            ]
          },
          "metadata": {},
          "output_type": "display_data"
        },
        {
          "name": "stdout",
          "output_type": "stream",
          "text": [
            "Epoch 75 of 100\n",
            "Generator loss: 2.72284603, Discriminator loss: 1.69627738\n"
          ]
        },
        {
          "name": "stderr",
          "output_type": "stream",
          "text": [
            "118it [00:22,  5.30it/s]                         \n"
          ]
        },
        {
          "name": "stdout",
          "output_type": "stream",
          "text": [
            "Epoch 76 of 100\n",
            "Generator loss: 2.71468806, Discriminator loss: 1.70442545\n"
          ]
        },
        {
          "name": "stderr",
          "output_type": "stream",
          "text": [
            "118it [00:22,  5.29it/s]                         \n"
          ]
        },
        {
          "name": "stdout",
          "output_type": "stream",
          "text": [
            "Epoch 77 of 100\n",
            "Generator loss: 2.68070126, Discriminator loss: 1.74428093\n"
          ]
        },
        {
          "name": "stderr",
          "output_type": "stream",
          "text": [
            "118it [00:22,  5.30it/s]                         \n"
          ]
        },
        {
          "name": "stdout",
          "output_type": "stream",
          "text": [
            "Epoch 78 of 100\n",
            "Generator loss: 2.65260220, Discriminator loss: 1.76301420\n"
          ]
        },
        {
          "name": "stderr",
          "output_type": "stream",
          "text": [
            "118it [00:22,  5.30it/s]                         \n"
          ]
        },
        {
          "name": "stdout",
          "output_type": "stream",
          "text": [
            "Epoch 79 of 100\n",
            "Generator loss: 2.67656565, Discriminator loss: 1.74935806\n"
          ]
        },
        {
          "name": "stderr",
          "output_type": "stream",
          "text": [
            "118it [00:22,  5.34it/s]                         \n",
            "Clipping input data to the valid range for imshow with RGB data ([0..1] for floats or [0..255] for integers).\n"
          ]
        },
        {
          "data": {
            "image/png": "[encoded data removed]",
            "text/plain": [
              "<Figure size 432x288 with 1 Axes>"
            ]
          },
          "metadata": {},
          "output_type": "display_data"
        },
        {
          "name": "stdout",
          "output_type": "stream",
          "text": [
            "Epoch 80 of 100\n",
            "Generator loss: 2.66402960, Discriminator loss: 1.77388906\n"
          ]
        },
        {
          "name": "stderr",
          "output_type": "stream",
          "text": [
            "118it [00:22,  5.32it/s]                         \n"
          ]
        },
        {
          "name": "stdout",
          "output_type": "stream",
          "text": [
            "Epoch 81 of 100\n",
            "Generator loss: 2.66373801, Discriminator loss: 1.75591910\n"
          ]
        },
        {
          "name": "stderr",
          "output_type": "stream",
          "text": [
            "118it [00:22,  5.25it/s]                         \n"
          ]
        },
        {
          "name": "stdout",
          "output_type": "stream",
          "text": [
            "Epoch 82 of 100\n",
            "Generator loss: 2.65163732, Discriminator loss: 1.73743165\n"
          ]
        },
        {
          "name": "stderr",
          "output_type": "stream",
          "text": [
            "118it [00:21,  5.42it/s]                         \n"
          ]
        },
        {
          "name": "stdout",
          "output_type": "stream",
          "text": [
            "Epoch 83 of 100\n",
            "Generator loss: 2.75145936, Discriminator loss: 1.70835590\n"
          ]
        },
        {
          "name": "stderr",
          "output_type": "stream",
          "text": [
            "118it [00:21,  5.53it/s]                         \n"
          ]
        },
        {
          "name": "stdout",
          "output_type": "stream",
          "text": [
            "Epoch 84 of 100\n",
            "Generator loss: 2.70638251, Discriminator loss: 1.70953572\n"
          ]
        },
        {
          "name": "stderr",
          "output_type": "stream",
          "text": [
            "118it [00:21,  5.52it/s]                         \n",
            "Clipping input data to the valid range for imshow with RGB data ([0..1] for floats or [0..255] for integers).\n"
          ]
        },
        {
          "data": {
            "image/png": "[encoded data removed]",
            "text/plain": [
              "<Figure size 432x288 with 1 Axes>"
            ]
          },
          "metadata": {},
          "output_type": "display_data"
        },
        {
          "name": "stdout",
          "output_type": "stream",
          "text": [
            "Epoch 85 of 100\n",
            "Generator loss: 2.70469427, Discriminator loss: 1.72908783\n"
          ]
        },
        {
          "name": "stderr",
          "output_type": "stream",
          "text": [
            "118it [00:21,  5.55it/s]                         \n"
          ]
        },
        {
          "name": "stdout",
          "output_type": "stream",
          "text": [
            "Epoch 86 of 100\n",
            "Generator loss: 2.72151804, Discriminator loss: 1.71660030\n"
          ]
        },
        {
          "name": "stderr",
          "output_type": "stream",
          "text": [
            "118it [00:21,  5.54it/s]                         \n"
          ]
        },
        {
          "name": "stdout",
          "output_type": "stream",
          "text": [
            "Epoch 87 of 100\n",
            "Generator loss: 2.71432233, Discriminator loss: 1.71008575\n"
          ]
        },
        {
          "name": "stderr",
          "output_type": "stream",
          "text": [
            "118it [00:21,  5.54it/s]                         \n"
          ]
        },
        {
          "name": "stdout",
          "output_type": "stream",
          "text": [
            "Epoch 88 of 100\n",
            "Generator loss: 2.70103145, Discriminator loss: 1.72030509\n"
          ]
        },
        {
          "name": "stderr",
          "output_type": "stream",
          "text": [
            "118it [00:21,  5.53it/s]                         \n"
          ]
        },
        {
          "name": "stdout",
          "output_type": "stream",
          "text": [
            "Epoch 89 of 100\n",
            "Generator loss: 2.70792222, Discriminator loss: 1.72586262\n"
          ]
        },
        {
          "name": "stderr",
          "output_type": "stream",
          "text": [
            "118it [00:21,  5.60it/s]                         \n",
            "Clipping input data to the valid range for imshow with RGB data ([0..1] for floats or [0..255] for integers).\n"
          ]
        },
        {
          "data": {
            "image/png": "[encoded data removed]",
            "text/plain": [
              "<Figure size 432x288 with 1 Axes>"
            ]
          },
          "metadata": {},
          "output_type": "display_data"
        },
        {
          "name": "stdout",
          "output_type": "stream",
          "text": [
            "Epoch 90 of 100\n",
            "Generator loss: 2.64571929, Discriminator loss: 1.74148238\n"
          ]
        },
        {
          "name": "stderr",
          "output_type": "stream",
          "text": [
            "118it [00:21,  5.54it/s]                         \n"
          ]
        },
        {
          "name": "stdout",
          "output_type": "stream",
          "text": [
            "Epoch 91 of 100\n",
            "Generator loss: 2.66591334, Discriminator loss: 1.75210154\n"
          ]
        },
        {
          "name": "stderr",
          "output_type": "stream",
          "text": [
            "118it [00:21,  5.58it/s]                         \n"
          ]
        },
        {
          "name": "stdout",
          "output_type": "stream",
          "text": [
            "Epoch 92 of 100\n",
            "Generator loss: 2.65636706, Discriminator loss: 1.76201010\n"
          ]
        },
        {
          "name": "stderr",
          "output_type": "stream",
          "text": [
            "118it [00:21,  5.58it/s]                         \n"
          ]
        },
        {
          "name": "stdout",
          "output_type": "stream",
          "text": [
            "Epoch 93 of 100\n",
            "Generator loss: 2.67241240, Discriminator loss: 1.73843706\n"
          ]
        },
        {
          "name": "stderr",
          "output_type": "stream",
          "text": [
            "118it [00:20,  5.65it/s]                         \n"
          ]
        },
        {
          "name": "stdout",
          "output_type": "stream",
          "text": [
            "Epoch 94 of 100\n",
            "Generator loss: 2.64894533, Discriminator loss: 1.76709187\n"
          ]
        },
        {
          "name": "stderr",
          "output_type": "stream",
          "text": [
            "118it [00:21,  5.61it/s]                         \n",
            "Clipping input data to the valid range for imshow with RGB data ([0..1] for floats or [0..255] for integers).\n"
          ]
        },
        {
          "data": {
            "image/png": "[encoded data removed]",
            "text/plain": [
              "<Figure size 432x288 with 1 Axes>"
            ]
          },
          "metadata": {},
          "output_type": "display_data"
        },
        {
          "name": "stdout",
          "output_type": "stream",
          "text": [
            "Epoch 95 of 100\n",
            "Generator loss: 2.59090424, Discriminator loss: 1.78745568\n"
          ]
        },
        {
          "name": "stderr",
          "output_type": "stream",
          "text": [
            "118it [00:21,  5.61it/s]                         \n"
          ]
        },
        {
          "name": "stdout",
          "output_type": "stream",
          "text": [
            "Epoch 96 of 100\n",
            "Generator loss: 2.63699651, Discriminator loss: 1.77685881\n"
          ]
        },
        {
          "name": "stderr",
          "output_type": "stream",
          "text": [
            "118it [00:21,  5.59it/s]                         \n"
          ]
        },
        {
          "name": "stdout",
          "output_type": "stream",
          "text": [
            "Epoch 97 of 100\n",
            "Generator loss: 2.60335064, Discriminator loss: 1.79173601\n"
          ]
        },
        {
          "name": "stderr",
          "output_type": "stream",
          "text": [
            "118it [00:21,  5.60it/s]                         \n"
          ]
        },
        {
          "name": "stdout",
          "output_type": "stream",
          "text": [
            "Epoch 98 of 100\n",
            "Generator loss: 2.59152246, Discriminator loss: 1.81644380\n"
          ]
        },
        {
          "name": "stderr",
          "output_type": "stream",
          "text": [
            "118it [00:21,  5.59it/s]                         \n"
          ]
        },
        {
          "name": "stdout",
          "output_type": "stream",
          "text": [
            "Epoch 99 of 100\n",
            "Generator loss: 2.64856458, Discriminator loss: 1.80692661\n"
          ]
        },
        {
          "name": "stderr",
          "output_type": "stream",
          "text": [
            "118it [00:21,  5.58it/s]                         \n",
            "Clipping input data to the valid range for imshow with RGB data ([0..1] for floats or [0..255] for integers).\n"
          ]
        },
        {
          "data": {
            "image/png": "[encoded data removed]",
            "text/plain": [
              "<Figure size 432x288 with 1 Axes>"
            ]
          },
          "metadata": {},
          "output_type": "display_data"
        },
        {
          "name": "stdout",
          "output_type": "stream",
          "text": [
            "Epoch 100 of 100\n",
            "Generator loss: 2.59354544, Discriminator loss: 1.81793261\n"
          ]
        }
      ]
    },
    {
      "cell_type": "code",
      "metadata": {
        "colab": {
          "background_save": true
        },
        "id": "chief-jewelry",
        "outputId": "40ade3c4-7c91-4388-cae8-80379b864329"
      },
      "source": [
        "print('DONE TRAINING')\n",
        "torch.save(generator.state_dict(), 'outputs/generator.pth')"
      ],
      "id": "chief-jewelry",
      "execution_count": null,
      "outputs": [
        {
          "name": "stdout",
          "output_type": "stream",
          "text": [
            "DONE TRAINING\n"
          ]
        }
      ]
    },
    {
      "cell_type": "code",
      "metadata": {
        "colab": {
          "background_save": true
        },
        "id": "relative-certificate"
      },
      "source": [
        "# save the generated images as GIF file\n",
        "imgs = [np.array(to_pil_image(img)) for img in images]\n",
        "imageio.mimsave('outputs/generator_images.gif', imgs)"
      ],
      "id": "relative-certificate",
      "execution_count": null,
      "outputs": []
    },
    {
      "cell_type": "code",
      "metadata": {
        "colab": {
          "background_save": true
        },
        "id": "liable-toronto",
        "outputId": "dd5916eb-6e2c-4262-89a4-ffb5c3fe143d"
      },
      "source": [
        "# plot and save the generator and discriminator loss\n",
        "plt.figure()\n",
        "plt.plot(losses_g, label='Generator loss')\n",
        "plt.plot(losses_d, label='Discriminator Loss')\n",
        "plt.legend()\n",
        "plt.savefig('outputs/loss.png')"
      ],
      "id": "liable-toronto",
      "execution_count": null,
      "outputs": [
        {
          "data": {
            "image/png": "[encoded data removed]",
            "text/plain": [
              "<Figure size 432x288 with 1 Axes>"
            ]
          },
          "metadata": {},
          "output_type": "display_data"
        }
      ]
    },
    {
      "cell_type": "code",
      "metadata": {
        "id": "adjusted-brother"
      },
      "source": [
        ""
      ],
      "id": "adjusted-brother",
      "execution_count": null,
      "outputs": []
    }
  ]
}